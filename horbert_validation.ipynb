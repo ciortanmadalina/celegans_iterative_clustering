{
 "cells": [
  {
   "cell_type": "code",
   "execution_count": 31,
   "metadata": {
    "ExecuteTime": {
     "end_time": "2019-02-04T17:44:26.674054Z",
     "start_time": "2019-02-04T17:44:26.664082Z"
    }
   },
   "outputs": [],
   "source": [
    "import sys\n",
    "sys.path.append(\"..\") # this adds to path parent directory in order to import utils file\n",
    "\n",
    "import pandas as pd\n",
    "import numpy as np\n",
    "from collections import Counter\n",
    "from tqdm import tqdm\n",
    "import matplotlib.pyplot as plt\n",
    "import pickle\n",
    "\n",
    "plt.ion()\n",
    "plt.show()\n",
    "\n",
    "import utest_utils\n"
   ]
  },
  {
   "cell_type": "code",
   "execution_count": 2,
   "metadata": {
    "ExecuteTime": {
     "end_time": "2019-02-04T17:21:23.037564Z",
     "start_time": "2019-02-04T17:21:22.754364Z"
    }
   },
   "outputs": [
    {
     "data": {
      "text/plain": [
       "<module 'utest_utils' from 'C:\\\\workspace\\\\ml\\\\celegans_iterative_clustering\\\\utest_utils.py'>"
      ]
     },
     "execution_count": 2,
     "metadata": {},
     "output_type": "execute_result"
    }
   ],
   "source": [
    "%load_ext autoreload\n",
    "import importlib\n",
    "importlib.reload(utest_utils)"
   ]
  },
  {
   "cell_type": "markdown",
   "metadata": {},
   "source": [
    "## Load validation df"
   ]
  },
  {
   "cell_type": "code",
   "execution_count": 26,
   "metadata": {
    "ExecuteTime": {
     "end_time": "2019-02-04T17:39:38.463651Z",
     "start_time": "2019-02-04T17:39:38.352945Z"
    }
   },
   "outputs": [
    {
     "name": "stdout",
     "output_type": "stream",
     "text": [
      "(118, 968)\n",
      "Index(['B0207.7', 'C01H6.9', 'C03A3.3'], dtype='object')\n"
     ]
    },
    {
     "data": {
      "text/html": [
       "<div>\n",
       "<style scoped>\n",
       "    .dataframe tbody tr th:only-of-type {\n",
       "        vertical-align: middle;\n",
       "    }\n",
       "\n",
       "    .dataframe tbody tr th {\n",
       "        vertical-align: top;\n",
       "    }\n",
       "\n",
       "    .dataframe thead th {\n",
       "        text-align: right;\n",
       "    }\n",
       "</style>\n",
       "<table border=\"1\" class=\"dataframe\">\n",
       "  <thead>\n",
       "    <tr style=\"text-align: right;\">\n",
       "      <th></th>\n",
       "      <th>class</th>\n",
       "      <th>B0207.7</th>\n",
       "      <th>C01H6.9</th>\n",
       "      <th>C03A3.3</th>\n",
       "      <th>C04G2.2</th>\n",
       "      <th>C15C8.4</th>\n",
       "      <th>C16B8.4</th>\n",
       "      <th>C32B5.6</th>\n",
       "      <th>C33A11.2</th>\n",
       "      <th>C33A12.4</th>\n",
       "      <th>...</th>\n",
       "      <th>wrk-1</th>\n",
       "      <th>xrn-2</th>\n",
       "      <th>zig-1</th>\n",
       "      <th>zig-2</th>\n",
       "      <th>zig-3</th>\n",
       "      <th>zig-4</th>\n",
       "      <th>zig-5</th>\n",
       "      <th>zig-8</th>\n",
       "      <th>ztf-3</th>\n",
       "      <th>zyg-8</th>\n",
       "    </tr>\n",
       "  </thead>\n",
       "  <tbody>\n",
       "    <tr>\n",
       "      <th>0</th>\n",
       "      <td>ADA</td>\n",
       "      <td>0</td>\n",
       "      <td>0</td>\n",
       "      <td>0</td>\n",
       "      <td>0</td>\n",
       "      <td>0</td>\n",
       "      <td>0</td>\n",
       "      <td>0</td>\n",
       "      <td>0</td>\n",
       "      <td>0</td>\n",
       "      <td>...</td>\n",
       "      <td>0</td>\n",
       "      <td>0</td>\n",
       "      <td>0</td>\n",
       "      <td>0</td>\n",
       "      <td>0</td>\n",
       "      <td>0</td>\n",
       "      <td>0</td>\n",
       "      <td>0</td>\n",
       "      <td>0</td>\n",
       "      <td>0</td>\n",
       "    </tr>\n",
       "    <tr>\n",
       "      <th>1</th>\n",
       "      <td>ADE</td>\n",
       "      <td>0</td>\n",
       "      <td>0</td>\n",
       "      <td>0</td>\n",
       "      <td>0</td>\n",
       "      <td>0</td>\n",
       "      <td>0</td>\n",
       "      <td>0</td>\n",
       "      <td>0</td>\n",
       "      <td>0</td>\n",
       "      <td>...</td>\n",
       "      <td>0</td>\n",
       "      <td>0</td>\n",
       "      <td>0</td>\n",
       "      <td>0</td>\n",
       "      <td>0</td>\n",
       "      <td>0</td>\n",
       "      <td>0</td>\n",
       "      <td>0</td>\n",
       "      <td>0</td>\n",
       "      <td>0</td>\n",
       "    </tr>\n",
       "    <tr>\n",
       "      <th>2</th>\n",
       "      <td>ADF</td>\n",
       "      <td>0</td>\n",
       "      <td>0</td>\n",
       "      <td>0</td>\n",
       "      <td>0</td>\n",
       "      <td>0</td>\n",
       "      <td>0</td>\n",
       "      <td>0</td>\n",
       "      <td>0</td>\n",
       "      <td>1</td>\n",
       "      <td>...</td>\n",
       "      <td>0</td>\n",
       "      <td>0</td>\n",
       "      <td>0</td>\n",
       "      <td>0</td>\n",
       "      <td>0</td>\n",
       "      <td>0</td>\n",
       "      <td>0</td>\n",
       "      <td>0</td>\n",
       "      <td>0</td>\n",
       "      <td>0</td>\n",
       "    </tr>\n",
       "    <tr>\n",
       "      <th>3</th>\n",
       "      <td>ADL</td>\n",
       "      <td>0</td>\n",
       "      <td>0</td>\n",
       "      <td>0</td>\n",
       "      <td>0</td>\n",
       "      <td>0</td>\n",
       "      <td>0</td>\n",
       "      <td>0</td>\n",
       "      <td>0</td>\n",
       "      <td>1</td>\n",
       "      <td>...</td>\n",
       "      <td>0</td>\n",
       "      <td>0</td>\n",
       "      <td>0</td>\n",
       "      <td>0</td>\n",
       "      <td>0</td>\n",
       "      <td>0</td>\n",
       "      <td>0</td>\n",
       "      <td>0</td>\n",
       "      <td>0</td>\n",
       "      <td>0</td>\n",
       "    </tr>\n",
       "    <tr>\n",
       "      <th>4</th>\n",
       "      <td>AFD</td>\n",
       "      <td>0</td>\n",
       "      <td>0</td>\n",
       "      <td>0</td>\n",
       "      <td>0</td>\n",
       "      <td>0</td>\n",
       "      <td>0</td>\n",
       "      <td>0</td>\n",
       "      <td>0</td>\n",
       "      <td>0</td>\n",
       "      <td>...</td>\n",
       "      <td>0</td>\n",
       "      <td>0</td>\n",
       "      <td>0</td>\n",
       "      <td>0</td>\n",
       "      <td>0</td>\n",
       "      <td>0</td>\n",
       "      <td>1</td>\n",
       "      <td>0</td>\n",
       "      <td>0</td>\n",
       "      <td>0</td>\n",
       "    </tr>\n",
       "  </tbody>\n",
       "</table>\n",
       "<p>5 rows × 968 columns</p>\n",
       "</div>"
      ],
      "text/plain": [
       "  class  B0207.7  C01H6.9  C03A3.3  C04G2.2  C15C8.4  C16B8.4  C32B5.6  \\\n",
       "0   ADA        0        0        0        0        0        0        0   \n",
       "1   ADE        0        0        0        0        0        0        0   \n",
       "2   ADF        0        0        0        0        0        0        0   \n",
       "3   ADL        0        0        0        0        0        0        0   \n",
       "4   AFD        0        0        0        0        0        0        0   \n",
       "\n",
       "   C33A11.2  C33A12.4  ...    wrk-1  xrn-2  zig-1  zig-2  zig-3  zig-4  zig-5  \\\n",
       "0         0         0  ...        0      0      0      0      0      0      0   \n",
       "1         0         0  ...        0      0      0      0      0      0      0   \n",
       "2         0         1  ...        0      0      0      0      0      0      0   \n",
       "3         0         1  ...        0      0      0      0      0      0      0   \n",
       "4         0         0  ...        0      0      0      0      0      0      1   \n",
       "\n",
       "   zig-8  ztf-3  zyg-8  \n",
       "0      0      0      0  \n",
       "1      0      0      0  \n",
       "2      0      0      0  \n",
       "3      0      0      0  \n",
       "4      0      0      0  \n",
       "\n",
       "[5 rows x 968 columns]"
      ]
     },
     "execution_count": 26,
     "metadata": {},
     "output_type": "execute_result"
    }
   ],
   "source": [
    "validatationData = pd.read_pickle('data/horbert.pkl')\n",
    "/print validatationData.shape\n",
    "genes = validatationData.columns[1:]\n",
    "print (genes[:3])\n",
    "validatationData.head()\n"
   ]
  },
  {
   "cell_type": "markdown",
   "metadata": {},
   "source": [
    "## Load data df"
   ]
  },
  {
   "cell_type": "code",
   "execution_count": 53,
   "metadata": {
    "ExecuteTime": {
     "end_time": "2019-02-04T18:03:19.265390Z",
     "start_time": "2019-02-04T18:03:18.301925Z"
    }
   },
   "outputs": [
    {
     "name": "stdout",
     "output_type": "stream",
     "text": [
      "(7603, 12355)\n"
     ]
    },
    {
     "data": {
      "text/html": [
       "<div>\n",
       "<style scoped>\n",
       "    .dataframe tbody tr th:only-of-type {\n",
       "        vertical-align: middle;\n",
       "    }\n",
       "\n",
       "    .dataframe tbody tr th {\n",
       "        vertical-align: top;\n",
       "    }\n",
       "\n",
       "    .dataframe thead th {\n",
       "        text-align: right;\n",
       "    }\n",
       "</style>\n",
       "<table border=\"1\" class=\"dataframe\">\n",
       "  <thead>\n",
       "    <tr style=\"text-align: right;\">\n",
       "      <th></th>\n",
       "      <th>aap-1</th>\n",
       "      <th>aat-1</th>\n",
       "      <th>aat-2</th>\n",
       "      <th>aat-3</th>\n",
       "      <th>aat-5</th>\n",
       "      <th>aat-6</th>\n",
       "      <th>aat-9</th>\n",
       "      <th>abf-2</th>\n",
       "      <th>abf-5</th>\n",
       "      <th>abf-6</th>\n",
       "      <th>...</th>\n",
       "      <th>D1046.18</th>\n",
       "      <th>F54H5.14</th>\n",
       "      <th>F59A7.14</th>\n",
       "      <th>F54E2.9</th>\n",
       "      <th>C17B7.15</th>\n",
       "      <th>T28A11.25</th>\n",
       "      <th>F35F10.19</th>\n",
       "      <th>C07G3.15</th>\n",
       "      <th>F54F2.14</th>\n",
       "      <th>R06F6.14</th>\n",
       "    </tr>\n",
       "  </thead>\n",
       "  <tbody>\n",
       "    <tr>\n",
       "      <th>cele-001-001.CATGACTCAA</th>\n",
       "      <td>0</td>\n",
       "      <td>0</td>\n",
       "      <td>0</td>\n",
       "      <td>0</td>\n",
       "      <td>0</td>\n",
       "      <td>0</td>\n",
       "      <td>0</td>\n",
       "      <td>0</td>\n",
       "      <td>0</td>\n",
       "      <td>0</td>\n",
       "      <td>...</td>\n",
       "      <td>0</td>\n",
       "      <td>0</td>\n",
       "      <td>0</td>\n",
       "      <td>0</td>\n",
       "      <td>0</td>\n",
       "      <td>0</td>\n",
       "      <td>0</td>\n",
       "      <td>0</td>\n",
       "      <td>0</td>\n",
       "      <td>0</td>\n",
       "    </tr>\n",
       "    <tr>\n",
       "      <th>cele-001-001.AACTACGGCT</th>\n",
       "      <td>0</td>\n",
       "      <td>0</td>\n",
       "      <td>0</td>\n",
       "      <td>0</td>\n",
       "      <td>0</td>\n",
       "      <td>0</td>\n",
       "      <td>0</td>\n",
       "      <td>0</td>\n",
       "      <td>0</td>\n",
       "      <td>0</td>\n",
       "      <td>...</td>\n",
       "      <td>0</td>\n",
       "      <td>0</td>\n",
       "      <td>0</td>\n",
       "      <td>0</td>\n",
       "      <td>0</td>\n",
       "      <td>0</td>\n",
       "      <td>0</td>\n",
       "      <td>0</td>\n",
       "      <td>0</td>\n",
       "      <td>0</td>\n",
       "    </tr>\n",
       "    <tr>\n",
       "      <th>cele-001-001.GAGGCTTATT</th>\n",
       "      <td>0</td>\n",
       "      <td>0</td>\n",
       "      <td>0</td>\n",
       "      <td>0</td>\n",
       "      <td>0</td>\n",
       "      <td>0</td>\n",
       "      <td>0</td>\n",
       "      <td>0</td>\n",
       "      <td>0</td>\n",
       "      <td>0</td>\n",
       "      <td>...</td>\n",
       "      <td>0</td>\n",
       "      <td>0</td>\n",
       "      <td>0</td>\n",
       "      <td>0</td>\n",
       "      <td>0</td>\n",
       "      <td>0</td>\n",
       "      <td>0</td>\n",
       "      <td>0</td>\n",
       "      <td>0</td>\n",
       "      <td>0</td>\n",
       "    </tr>\n",
       "    <tr>\n",
       "      <th>cele-001-001.GCCTGATATA</th>\n",
       "      <td>0</td>\n",
       "      <td>0</td>\n",
       "      <td>0</td>\n",
       "      <td>0</td>\n",
       "      <td>0</td>\n",
       "      <td>0</td>\n",
       "      <td>0</td>\n",
       "      <td>0</td>\n",
       "      <td>0</td>\n",
       "      <td>0</td>\n",
       "      <td>...</td>\n",
       "      <td>0</td>\n",
       "      <td>0</td>\n",
       "      <td>0</td>\n",
       "      <td>0</td>\n",
       "      <td>0</td>\n",
       "      <td>0</td>\n",
       "      <td>0</td>\n",
       "      <td>0</td>\n",
       "      <td>0</td>\n",
       "      <td>0</td>\n",
       "    </tr>\n",
       "    <tr>\n",
       "      <th>cele-001-001.CTGATCGACC</th>\n",
       "      <td>0</td>\n",
       "      <td>0</td>\n",
       "      <td>0</td>\n",
       "      <td>0</td>\n",
       "      <td>0</td>\n",
       "      <td>0</td>\n",
       "      <td>0</td>\n",
       "      <td>0</td>\n",
       "      <td>0</td>\n",
       "      <td>0</td>\n",
       "      <td>...</td>\n",
       "      <td>0</td>\n",
       "      <td>0</td>\n",
       "      <td>0</td>\n",
       "      <td>0</td>\n",
       "      <td>0</td>\n",
       "      <td>0</td>\n",
       "      <td>0</td>\n",
       "      <td>0</td>\n",
       "      <td>0</td>\n",
       "      <td>0</td>\n",
       "    </tr>\n",
       "  </tbody>\n",
       "</table>\n",
       "<p>5 rows × 12355 columns</p>\n",
       "</div>"
      ],
      "text/plain": [
       "                         aap-1  aat-1  aat-2  aat-3  aat-5  aat-6  aat-9  \\\n",
       "cele-001-001.CATGACTCAA      0      0      0      0      0      0      0   \n",
       "cele-001-001.AACTACGGCT      0      0      0      0      0      0      0   \n",
       "cele-001-001.GAGGCTTATT      0      0      0      0      0      0      0   \n",
       "cele-001-001.GCCTGATATA      0      0      0      0      0      0      0   \n",
       "cele-001-001.CTGATCGACC      0      0      0      0      0      0      0   \n",
       "\n",
       "                         abf-2  abf-5  abf-6    ...     D1046.18  F54H5.14  \\\n",
       "cele-001-001.CATGACTCAA      0      0      0    ...            0         0   \n",
       "cele-001-001.AACTACGGCT      0      0      0    ...            0         0   \n",
       "cele-001-001.GAGGCTTATT      0      0      0    ...            0         0   \n",
       "cele-001-001.GCCTGATATA      0      0      0    ...            0         0   \n",
       "cele-001-001.CTGATCGACC      0      0      0    ...            0         0   \n",
       "\n",
       "                         F59A7.14  F54E2.9  C17B7.15  T28A11.25  F35F10.19  \\\n",
       "cele-001-001.CATGACTCAA         0        0         0          0          0   \n",
       "cele-001-001.AACTACGGCT         0        0         0          0          0   \n",
       "cele-001-001.GAGGCTTATT         0        0         0          0          0   \n",
       "cele-001-001.GCCTGATATA         0        0         0          0          0   \n",
       "cele-001-001.CTGATCGACC         0        0         0          0          0   \n",
       "\n",
       "                         C07G3.15  F54F2.14  R06F6.14  \n",
       "cele-001-001.CATGACTCAA         0         0         0  \n",
       "cele-001-001.AACTACGGCT         0         0         0  \n",
       "cele-001-001.GAGGCTTATT         0         0         0  \n",
       "cele-001-001.GCCTGATATA         0         0         0  \n",
       "cele-001-001.CTGATCGACC         0         0         0  \n",
       "\n",
       "[5 rows x 12355 columns]"
      ]
     },
     "execution_count": 53,
     "metadata": {},
     "output_type": "execute_result"
    }
   ],
   "source": [
    "df = pd.read_pickle('data/df.pkl')\n",
    "outputExcelFileName = 'no_imputation_percentual_overap_validation_prediction.xlsx'\n",
    "clustersFile = 'data/no_imputation_clusters.pickle'\n",
    "/print df.shape\n",
    "df.head()"
   ]
  },
  {
   "cell_type": "markdown",
   "metadata": {},
   "source": [
    "## Load cluster values"
   ]
  },
  {
   "cell_type": "code",
   "execution_count": 6,
   "metadata": {
    "ExecuteTime": {
     "end_time": "2019-02-04T17:22:15.249642Z",
     "start_time": "2019-02-04T17:22:15.245576Z"
    }
   },
   "outputs": [],
   "source": [
    "# filename = '../statistical_tests/output/97GMM_umap.csv'\n",
    "# clusters = pd.read_csv(filename,index_col=0 )\n",
    "# print(clusters.shape)\n",
    "# clusters = clusters['cluster'].values"
   ]
  },
  {
   "cell_type": "markdown",
   "metadata": {},
   "source": [
    "## There are 123 genes missing"
   ]
  },
  {
   "cell_type": "code",
   "execution_count": 7,
   "metadata": {
    "ExecuteTime": {
     "end_time": "2019-02-04T17:22:23.348638Z",
     "start_time": "2019-02-04T17:22:22.705655Z"
    }
   },
   "outputs": [
    {
     "data": {
      "text/plain": [
       "(967, Counter({False: 123, True: 844}))"
      ]
     },
     "execution_count": 7,
     "metadata": {},
     "output_type": "execute_result"
    }
   ],
   "source": [
    "len(genes), Counter(np.isin(genes, df.columns))"
   ]
  },
  {
   "cell_type": "code",
   "execution_count": 8,
   "metadata": {
    "ExecuteTime": {
     "end_time": "2019-02-04T17:22:31.357638Z",
     "start_time": "2019-02-04T17:22:30.745920Z"
    }
   },
   "outputs": [
    {
     "name": "stdout",
     "output_type": "stream",
     "text": [
      "['B0207.7', 'C01H6.9', 'C32B5.6', 'C41G7.6 ', 'C45G9.1', 'C49G9.1', 'F08B4.4 ', 'F08G12.1 ', 'F25B4.2', 'F32B6.10', 'F49H12.4 ', 'F57H12.7', 'F58B4.3 ', 'H03A11.2 ', 'PVDL', 'R02E12.4 ', 'T17H7.1', 'T27A3.1', 'W01B6.2', 'Y113G7A.15 ', 'ZK792.1 ', 'ZK856.14 ', 'ant-1.4', 'atgr-18', 'ceh-28', 'ceh-51', 'ceh-63', 'che-1', 'clec-38', 'cyp-14A3', 'djr-1.2', 'dylt-2', 'egl-17', 'gcy-13', 'gcy-2', 'grd-8', 'grl-6', 'hlh-14', 'hlh-16', 'hlh-25', 'hlh-29', 'hlh-34', 'ins-32', 'ins-35', 'ins-7', 'inx-17', 'inx-6', 'lin-32', 'lin-58', 'lsy-27', 'lsy-6', 'mab-23', 'mir-124', 'mir-241', 'mir-273', 'mir-71', 'mir-84', 'mom-2', 'mps-3', 'mps-4', 'nas-3', 'ncx-6', 'nhr-111', 'nhr-253', 'nhr-83', 'nhx-1', 'nkat-1', 'nlp-22', 'nlp-27', 'oig-3', 'pax-3', 'pin-2', 'pqn-47', 'rcn-1', 'sams-5', 'snai-2', 'snf-5', 'spp-12', 'spp-3', 'sra-7', 'sra-9', 'srab-1', 'srab-20', 'srab-23', 'srb-6', 'srd-1', 'srd-16', 'sre-11', 'sre-30', 'sre-37', 'srg-13', 'srg-36', 'srg-41', 'srg-47', 'srg-8', 'srh-10', 'srh-132', 'srh-139', 'srh-142', 'srh-18', 'srh-281', 'sri-14', 'sri-51', 'srsx-3', 'srsx-37', 'srt-26', 'srt-45', 'sru-38', 'sru-4', 'srv-11', 'srx-47', 'srx-76', 'srz-1', 'srz-13', 'srz-6', 'str-1', 'str-2', 'str-220', 'str-3', 'str-33', 'str-44', 'tor-2', 'ver-2']\n"
     ]
    }
   ],
   "source": [
    "print(list(genes[~np.isin(genes, df.columns)]))"
   ]
  },
  {
   "cell_type": "markdown",
   "metadata": {
    "ExecuteTime": {
     "end_time": "2019-02-04T17:28:29.071898Z",
     "start_time": "2019-02-04T17:28:29.065913Z"
    }
   },
   "source": [
    "## Remove missing genes from validation data"
   ]
  },
  {
   "cell_type": "code",
   "execution_count": 23,
   "metadata": {
    "ExecuteTime": {
     "end_time": "2019-02-04T17:31:59.178142Z",
     "start_time": "2019-02-04T17:31:59.149218Z"
    }
   },
   "outputs": [
    {
     "data": {
      "text/html": [
       "<div>\n",
       "<style scoped>\n",
       "    .dataframe tbody tr th:only-of-type {\n",
       "        vertical-align: middle;\n",
       "    }\n",
       "\n",
       "    .dataframe tbody tr th {\n",
       "        vertical-align: top;\n",
       "    }\n",
       "\n",
       "    .dataframe thead th {\n",
       "        text-align: right;\n",
       "    }\n",
       "</style>\n",
       "<table border=\"1\" class=\"dataframe\">\n",
       "  <thead>\n",
       "    <tr style=\"text-align: right;\">\n",
       "      <th></th>\n",
       "      <th>class</th>\n",
       "      <th>C03A3.3</th>\n",
       "      <th>C04G2.2</th>\n",
       "      <th>C15C8.4</th>\n",
       "      <th>C16B8.4</th>\n",
       "      <th>C33A11.2</th>\n",
       "      <th>C33A12.4</th>\n",
       "      <th>C34D4.1</th>\n",
       "      <th>C35D10.12</th>\n",
       "      <th>C39D10.5</th>\n",
       "      <th>...</th>\n",
       "      <th>wrk-1</th>\n",
       "      <th>xrn-2</th>\n",
       "      <th>zig-1</th>\n",
       "      <th>zig-2</th>\n",
       "      <th>zig-3</th>\n",
       "      <th>zig-4</th>\n",
       "      <th>zig-5</th>\n",
       "      <th>zig-8</th>\n",
       "      <th>ztf-3</th>\n",
       "      <th>zyg-8</th>\n",
       "    </tr>\n",
       "  </thead>\n",
       "  <tbody>\n",
       "    <tr>\n",
       "      <th>0</th>\n",
       "      <td>ADA</td>\n",
       "      <td>0</td>\n",
       "      <td>0</td>\n",
       "      <td>0</td>\n",
       "      <td>0</td>\n",
       "      <td>0</td>\n",
       "      <td>0</td>\n",
       "      <td>0</td>\n",
       "      <td>0</td>\n",
       "      <td>0</td>\n",
       "      <td>...</td>\n",
       "      <td>0</td>\n",
       "      <td>0</td>\n",
       "      <td>0</td>\n",
       "      <td>0</td>\n",
       "      <td>0</td>\n",
       "      <td>0</td>\n",
       "      <td>0</td>\n",
       "      <td>0</td>\n",
       "      <td>0</td>\n",
       "      <td>0</td>\n",
       "    </tr>\n",
       "    <tr>\n",
       "      <th>1</th>\n",
       "      <td>ADE</td>\n",
       "      <td>0</td>\n",
       "      <td>0</td>\n",
       "      <td>0</td>\n",
       "      <td>0</td>\n",
       "      <td>0</td>\n",
       "      <td>0</td>\n",
       "      <td>0</td>\n",
       "      <td>0</td>\n",
       "      <td>0</td>\n",
       "      <td>...</td>\n",
       "      <td>0</td>\n",
       "      <td>0</td>\n",
       "      <td>0</td>\n",
       "      <td>0</td>\n",
       "      <td>0</td>\n",
       "      <td>0</td>\n",
       "      <td>0</td>\n",
       "      <td>0</td>\n",
       "      <td>0</td>\n",
       "      <td>0</td>\n",
       "    </tr>\n",
       "    <tr>\n",
       "      <th>2</th>\n",
       "      <td>ADF</td>\n",
       "      <td>0</td>\n",
       "      <td>0</td>\n",
       "      <td>0</td>\n",
       "      <td>0</td>\n",
       "      <td>0</td>\n",
       "      <td>1</td>\n",
       "      <td>0</td>\n",
       "      <td>0</td>\n",
       "      <td>0</td>\n",
       "      <td>...</td>\n",
       "      <td>0</td>\n",
       "      <td>0</td>\n",
       "      <td>0</td>\n",
       "      <td>0</td>\n",
       "      <td>0</td>\n",
       "      <td>0</td>\n",
       "      <td>0</td>\n",
       "      <td>0</td>\n",
       "      <td>0</td>\n",
       "      <td>0</td>\n",
       "    </tr>\n",
       "    <tr>\n",
       "      <th>3</th>\n",
       "      <td>ADL</td>\n",
       "      <td>0</td>\n",
       "      <td>0</td>\n",
       "      <td>0</td>\n",
       "      <td>0</td>\n",
       "      <td>0</td>\n",
       "      <td>1</td>\n",
       "      <td>1</td>\n",
       "      <td>0</td>\n",
       "      <td>0</td>\n",
       "      <td>...</td>\n",
       "      <td>0</td>\n",
       "      <td>0</td>\n",
       "      <td>0</td>\n",
       "      <td>0</td>\n",
       "      <td>0</td>\n",
       "      <td>0</td>\n",
       "      <td>0</td>\n",
       "      <td>0</td>\n",
       "      <td>0</td>\n",
       "      <td>0</td>\n",
       "    </tr>\n",
       "    <tr>\n",
       "      <th>4</th>\n",
       "      <td>AFD</td>\n",
       "      <td>0</td>\n",
       "      <td>0</td>\n",
       "      <td>0</td>\n",
       "      <td>0</td>\n",
       "      <td>0</td>\n",
       "      <td>0</td>\n",
       "      <td>0</td>\n",
       "      <td>0</td>\n",
       "      <td>0</td>\n",
       "      <td>...</td>\n",
       "      <td>0</td>\n",
       "      <td>0</td>\n",
       "      <td>0</td>\n",
       "      <td>0</td>\n",
       "      <td>0</td>\n",
       "      <td>0</td>\n",
       "      <td>1</td>\n",
       "      <td>0</td>\n",
       "      <td>0</td>\n",
       "      <td>0</td>\n",
       "    </tr>\n",
       "  </tbody>\n",
       "</table>\n",
       "<p>5 rows × 845 columns</p>\n",
       "</div>"
      ],
      "text/plain": [
       "  class  C03A3.3  C04G2.2  C15C8.4  C16B8.4  C33A11.2  C33A12.4  C34D4.1  \\\n",
       "0   ADA        0        0        0        0         0         0        0   \n",
       "1   ADE        0        0        0        0         0         0        0   \n",
       "2   ADF        0        0        0        0         0         1        0   \n",
       "3   ADL        0        0        0        0         0         1        1   \n",
       "4   AFD        0        0        0        0         0         0        0   \n",
       "\n",
       "   C35D10.12  C39D10.5  ...    wrk-1  xrn-2  zig-1  zig-2  zig-3  zig-4  \\\n",
       "0          0         0  ...        0      0      0      0      0      0   \n",
       "1          0         0  ...        0      0      0      0      0      0   \n",
       "2          0         0  ...        0      0      0      0      0      0   \n",
       "3          0         0  ...        0      0      0      0      0      0   \n",
       "4          0         0  ...        0      0      0      0      0      0   \n",
       "\n",
       "   zig-5  zig-8  ztf-3  zyg-8  \n",
       "0      0      0      0      0  \n",
       "1      0      0      0      0  \n",
       "2      0      0      0      0  \n",
       "3      0      0      0      0  \n",
       "4      1      0      0      0  \n",
       "\n",
       "[5 rows x 845 columns]"
      ]
     },
     "execution_count": 23,
     "metadata": {},
     "output_type": "execute_result"
    }
   ],
   "source": [
    "validatationData.head()"
   ]
  },
  {
   "cell_type": "code",
   "execution_count": 27,
   "metadata": {
    "ExecuteTime": {
     "end_time": "2019-02-04T17:39:45.889344Z",
     "start_time": "2019-02-04T17:39:45.611246Z"
    }
   },
   "outputs": [
    {
     "data": {
      "text/plain": [
       "(118, 845)"
      ]
     },
     "execution_count": 27,
     "metadata": {},
     "output_type": "execute_result"
    }
   ],
   "source": [
    "validatationData = validatationData[np.concatenate([['class'], genes[np.isin(genes, df.columns)]])]\n",
    "genes = validatationData.columns[1:]\n",
    "print(f\"Validation file contains {len(validatationData['class'].unique())} clusters\")\n",
    "validatationData.shape"
   ]
  },
  {
   "cell_type": "code",
   "execution_count": 32,
   "metadata": {
    "ExecuteTime": {
     "end_time": "2019-02-04T17:46:11.907129Z",
     "start_time": "2019-02-04T17:46:11.885147Z"
    }
   },
   "outputs": [],
   "source": [
    "with open(clustersFile, 'rb') as handle:\n",
    "    clusters = pickle.load(handle)\n",
    "\n",
    "predictedClusters = list(clusters.keys())\n",
    "trueClusters = validatationData['class'].unique()"
   ]
  },
  {
   "cell_type": "code",
   "execution_count": 54,
   "metadata": {
    "ExecuteTime": {
     "end_time": "2019-02-04T18:03:34.264652Z",
     "start_time": "2019-02-04T18:03:33.177791Z"
    }
   },
   "outputs": [
    {
     "name": "stderr",
     "output_type": "stream",
     "text": [
      "118it [00:00, 134.76it/s]\n"
     ]
    }
   ],
   "source": [
    "overlapMatrix = np.zeros((len(predictedClusters), len(validatationData['class'].unique())))\n",
    "# Iterate through all classes and calculate their fischer pvalue coresponding to each cluster\n",
    "for i, trueClass in tqdm(enumerate(trueClusters)):\n",
    "    classGenes = genes[validatationData[validatationData['class'] == trueClass][genes].values.reshape(-1) == 1]\n",
    "    for j, predClass in enumerate(predictedClusters):\n",
    "        intersect =  np.intersect1d(classGenes, clusters[predClass])\n",
    "        overlapMatrix[j, i] = int(100 *len(intersect)/len(classGenes))\n",
    "#         print(f'{overlapMatrix[j, i]} ', end ='')\n",
    "overlapMatrix = overlapMatrix.astype(int)\n",
    "overlapMatrix = pd.DataFrame(index= predictedClusters, data= overlapMatrix, columns=trueClusters)\n",
    "overlapMatrix.to_excel(outputExcelFileName)"
   ]
  },
  {
   "cell_type": "code",
   "execution_count": null,
   "metadata": {},
   "outputs": [],
   "source": []
  },
  {
   "cell_type": "code",
   "execution_count": null,
   "metadata": {},
   "outputs": [],
   "source": []
  },
  {
   "cell_type": "code",
   "execution_count": null,
   "metadata": {},
   "outputs": [],
   "source": []
  },
  {
   "cell_type": "code",
   "execution_count": null,
   "metadata": {},
   "outputs": [],
   "source": []
  },
  {
   "cell_type": "code",
   "execution_count": null,
   "metadata": {},
   "outputs": [],
   "source": []
  },
  {
   "cell_type": "code",
   "execution_count": null,
   "metadata": {},
   "outputs": [],
   "source": []
  },
  {
   "cell_type": "markdown",
   "metadata": {},
   "source": [
    "## Plot distribution of class signature values per cluster"
   ]
  },
  {
   "cell_type": "code",
   "execution_count": null,
   "metadata": {},
   "outputs": [],
   "source": [
    "cluster_scores = []\n",
    "for i in range(results.shape[0]):\n",
    "    sorted_vals = np.sort(results[i])\n",
    "    cluster_scores.append(sorted_vals[1]/sorted_vals[0])\n",
    "    \n",
    "    ## PLOT\n",
    "    plt.figure(figsize = (18, 4))\n",
    "    plt.title(f'-Log10(pval) for cluster {i}, Raport smallest+1 /smallest ={cluster_scores[-1]}, smallest pval : {sorted_vals[:2]}', \n",
    "              fontsize = 15)\n",
    "    plt.grid()\n",
    "    plt.bar(np.arange(len(results[i])), np.sort(-np.log10(results[i]))[::-1]);\n",
    "    plt.tight_layout()\n",
    "    \n",
    "cluster_scores = np.array(cluster_scores)"
   ]
  },
  {
   "cell_type": "code",
   "execution_count": null,
   "metadata": {},
   "outputs": [],
   "source": [
    "plt.figure(figsize = (18, 4))\n",
    "plt.title(f'Log Distribution of cluster scores (smallest+1pval/smallest_pval)', \n",
    "          fontsize = 15)\n",
    "plt.grid()\n",
    "plt.bar(np.arange(len(cluster_scores)), np.sort(cluster_scores), log = True);\n",
    "plt.tight_layout()\n",
    "\n"
   ]
  },
  {
   "cell_type": "code",
   "execution_count": null,
   "metadata": {},
   "outputs": [],
   "source": [
    "plt.figure(figsize = (18, 4))\n",
    "plt.title(f'Top 20 worst cluster scores', fontsize = 15)\n",
    "plt.grid()\n",
    "plt.bar(np.arange(len(cluster_scores))[:20], np.sort(cluster_scores)[:20]);\n",
    "plt.tight_layout()\n"
   ]
  },
  {
   "cell_type": "markdown",
   "metadata": {},
   "source": [
    "## We can combine global cluster scores into 2 metrics:\n",
    "- the mean of cluster scores\n",
    "- number of clustres with a report < 1.5"
   ]
  },
  {
   "cell_type": "code",
   "execution_count": null,
   "metadata": {},
   "outputs": [],
   "source": [
    "mean = np.mean(cluster_scores)\n",
    "mean"
   ]
  },
  {
   "cell_type": "code",
   "execution_count": null,
   "metadata": {},
   "outputs": [],
   "source": [
    "threshold = 1.5\n",
    "print(f\"There are {len(cluster_scores[cluster_scores <= 1.5])} clusters with report < {threshold}\" )"
   ]
  },
  {
   "cell_type": "code",
   "execution_count": null,
   "metadata": {},
   "outputs": [],
   "source": []
  },
  {
   "cell_type": "code",
   "execution_count": null,
   "metadata": {},
   "outputs": [],
   "source": []
  }
 ],
 "metadata": {
  "kernelspec": {
   "display_name": "Python 3",
   "language": "python",
   "name": "python3"
  },
  "language_info": {
   "codemirror_mode": {
    "name": "ipython",
    "version": 3
   },
   "file_extension": ".py",
   "mimetype": "text/x-python",
   "name": "python",
   "nbconvert_exporter": "python",
   "pygments_lexer": "ipython3",
   "version": "3.6.6"
  },
  "toc": {
   "base_numbering": 1,
   "nav_menu": {},
   "number_sections": true,
   "sideBar": true,
   "skip_h1_title": false,
   "title_cell": "Table of Contents",
   "title_sidebar": "Contents",
   "toc_cell": false,
   "toc_position": {},
   "toc_section_display": true,
   "toc_window_display": false
  },
  "varInspector": {
   "cols": {
    "lenName": 16,
    "lenType": 16,
    "lenVar": 40
   },
   "kernels_config": {
    "python": {
     "delete_cmd_postfix": "",
     "delete_cmd_prefix": "del ",
     "library": "var_list.py",
     "varRefreshCmd": "print(var_dic_list())"
    },
    "r": {
     "delete_cmd_postfix": ") ",
     "delete_cmd_prefix": "rm(",
     "library": "var_list.r",
     "varRefreshCmd": "cat(var_dic_list()) "
    }
   },
   "types_to_exclude": [
    "module",
    "function",
    "builtin_function_or_method",
    "instance",
    "_Feature"
   ],
   "window_display": false
  }
 },
 "nbformat": 4,
 "nbformat_minor": 2
}
