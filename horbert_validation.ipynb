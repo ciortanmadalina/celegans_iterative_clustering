{
 "cells": [
  {
   "cell_type": "code",
   "execution_count": 64,
   "metadata": {
    "ExecuteTime": {
     "end_time": "2019-02-04T22:08:45.071654Z",
     "start_time": "2019-02-04T22:08:45.060699Z"
    }
   },
   "outputs": [],
   "source": [
    "import sys\n",
    "sys.path.append(\"..\") # this adds to path parent directory in order to import utils file\n",
    "\n",
    "import pandas as pd\n",
    "import numpy as np\n",
    "from collections import Counter\n",
    "from tqdm import tqdm\n",
    "import matplotlib.pyplot as plt\n",
    "import pickle\n",
    "\n",
    "plt.ion()\n",
    "plt.show()\n",
    "\n",
    "import utest_utils\n"
   ]
  },
  {
   "cell_type": "code",
   "execution_count": 65,
   "metadata": {
    "ExecuteTime": {
     "end_time": "2019-02-04T22:08:45.766319Z",
     "start_time": "2019-02-04T22:08:45.724631Z"
    }
   },
   "outputs": [
    {
     "name": "stdout",
     "output_type": "stream",
     "text": [
      "The autoreload extension is already loaded. To reload it, use:\n",
      "  %reload_ext autoreload\n"
     ]
    },
    {
     "data": {
      "text/plain": [
       "<module 'utest_utils' from 'C:\\\\workspace\\\\ml\\\\celegans_iterative_clustering\\\\utest_utils.py'>"
      ]
     },
     "execution_count": 65,
     "metadata": {},
     "output_type": "execute_result"
    }
   ],
   "source": [
    "%load_ext autoreload\n",
    "import importlib\n",
    "importlib.reload(utest_utils)"
   ]
  },
  {
   "cell_type": "markdown",
   "metadata": {},
   "source": [
    "## Load validation df"
   ]
  },
  {
   "cell_type": "code",
   "execution_count": 66,
   "metadata": {
    "ExecuteTime": {
     "end_time": "2019-02-04T22:08:46.656985Z",
     "start_time": "2019-02-04T22:08:46.386394Z"
    }
   },
   "outputs": [
    {
     "name": "stdout",
     "output_type": "stream",
     "text": [
      "(118, 968)\n",
      "Index(['B0207.7', 'C01H6.9', 'C03A3.3'], dtype='object')\n"
     ]
    },
    {
     "data": {
      "text/html": [
       "<div>\n",
       "<style scoped>\n",
       "    .dataframe tbody tr th:only-of-type {\n",
       "        vertical-align: middle;\n",
       "    }\n",
       "\n",
       "    .dataframe tbody tr th {\n",
       "        vertical-align: top;\n",
       "    }\n",
       "\n",
       "    .dataframe thead th {\n",
       "        text-align: right;\n",
       "    }\n",
       "</style>\n",
       "<table border=\"1\" class=\"dataframe\">\n",
       "  <thead>\n",
       "    <tr style=\"text-align: right;\">\n",
       "      <th></th>\n",
       "      <th>class</th>\n",
       "      <th>B0207.7</th>\n",
       "      <th>C01H6.9</th>\n",
       "      <th>C03A3.3</th>\n",
       "      <th>C04G2.2</th>\n",
       "      <th>C15C8.4</th>\n",
       "      <th>C16B8.4</th>\n",
       "      <th>C32B5.6</th>\n",
       "      <th>C33A11.2</th>\n",
       "      <th>C33A12.4</th>\n",
       "      <th>...</th>\n",
       "      <th>wrk-1</th>\n",
       "      <th>xrn-2</th>\n",
       "      <th>zig-1</th>\n",
       "      <th>zig-2</th>\n",
       "      <th>zig-3</th>\n",
       "      <th>zig-4</th>\n",
       "      <th>zig-5</th>\n",
       "      <th>zig-8</th>\n",
       "      <th>ztf-3</th>\n",
       "      <th>zyg-8</th>\n",
       "    </tr>\n",
       "  </thead>\n",
       "  <tbody>\n",
       "    <tr>\n",
       "      <th>0</th>\n",
       "      <td>ADA</td>\n",
       "      <td>0</td>\n",
       "      <td>0</td>\n",
       "      <td>0</td>\n",
       "      <td>0</td>\n",
       "      <td>0</td>\n",
       "      <td>0</td>\n",
       "      <td>0</td>\n",
       "      <td>0</td>\n",
       "      <td>0</td>\n",
       "      <td>...</td>\n",
       "      <td>0</td>\n",
       "      <td>0</td>\n",
       "      <td>0</td>\n",
       "      <td>0</td>\n",
       "      <td>0</td>\n",
       "      <td>0</td>\n",
       "      <td>0</td>\n",
       "      <td>0</td>\n",
       "      <td>0</td>\n",
       "      <td>0</td>\n",
       "    </tr>\n",
       "    <tr>\n",
       "      <th>1</th>\n",
       "      <td>ADE</td>\n",
       "      <td>0</td>\n",
       "      <td>0</td>\n",
       "      <td>0</td>\n",
       "      <td>0</td>\n",
       "      <td>0</td>\n",
       "      <td>0</td>\n",
       "      <td>0</td>\n",
       "      <td>0</td>\n",
       "      <td>0</td>\n",
       "      <td>...</td>\n",
       "      <td>0</td>\n",
       "      <td>0</td>\n",
       "      <td>0</td>\n",
       "      <td>0</td>\n",
       "      <td>0</td>\n",
       "      <td>0</td>\n",
       "      <td>0</td>\n",
       "      <td>0</td>\n",
       "      <td>0</td>\n",
       "      <td>0</td>\n",
       "    </tr>\n",
       "    <tr>\n",
       "      <th>2</th>\n",
       "      <td>ADF</td>\n",
       "      <td>0</td>\n",
       "      <td>0</td>\n",
       "      <td>0</td>\n",
       "      <td>0</td>\n",
       "      <td>0</td>\n",
       "      <td>0</td>\n",
       "      <td>0</td>\n",
       "      <td>0</td>\n",
       "      <td>1</td>\n",
       "      <td>...</td>\n",
       "      <td>0</td>\n",
       "      <td>0</td>\n",
       "      <td>0</td>\n",
       "      <td>0</td>\n",
       "      <td>0</td>\n",
       "      <td>0</td>\n",
       "      <td>0</td>\n",
       "      <td>0</td>\n",
       "      <td>0</td>\n",
       "      <td>0</td>\n",
       "    </tr>\n",
       "    <tr>\n",
       "      <th>3</th>\n",
       "      <td>ADL</td>\n",
       "      <td>0</td>\n",
       "      <td>0</td>\n",
       "      <td>0</td>\n",
       "      <td>0</td>\n",
       "      <td>0</td>\n",
       "      <td>0</td>\n",
       "      <td>0</td>\n",
       "      <td>0</td>\n",
       "      <td>1</td>\n",
       "      <td>...</td>\n",
       "      <td>0</td>\n",
       "      <td>0</td>\n",
       "      <td>0</td>\n",
       "      <td>0</td>\n",
       "      <td>0</td>\n",
       "      <td>0</td>\n",
       "      <td>0</td>\n",
       "      <td>0</td>\n",
       "      <td>0</td>\n",
       "      <td>0</td>\n",
       "    </tr>\n",
       "    <tr>\n",
       "      <th>4</th>\n",
       "      <td>AFD</td>\n",
       "      <td>0</td>\n",
       "      <td>0</td>\n",
       "      <td>0</td>\n",
       "      <td>0</td>\n",
       "      <td>0</td>\n",
       "      <td>0</td>\n",
       "      <td>0</td>\n",
       "      <td>0</td>\n",
       "      <td>0</td>\n",
       "      <td>...</td>\n",
       "      <td>0</td>\n",
       "      <td>0</td>\n",
       "      <td>0</td>\n",
       "      <td>0</td>\n",
       "      <td>0</td>\n",
       "      <td>0</td>\n",
       "      <td>1</td>\n",
       "      <td>0</td>\n",
       "      <td>0</td>\n",
       "      <td>0</td>\n",
       "    </tr>\n",
       "  </tbody>\n",
       "</table>\n",
       "<p>5 rows × 968 columns</p>\n",
       "</div>"
      ],
      "text/plain": [
       "  class  B0207.7  C01H6.9  C03A3.3  C04G2.2  C15C8.4  C16B8.4  C32B5.6  \\\n",
       "0   ADA        0        0        0        0        0        0        0   \n",
       "1   ADE        0        0        0        0        0        0        0   \n",
       "2   ADF        0        0        0        0        0        0        0   \n",
       "3   ADL        0        0        0        0        0        0        0   \n",
       "4   AFD        0        0        0        0        0        0        0   \n",
       "\n",
       "   C33A11.2  C33A12.4  ...    wrk-1  xrn-2  zig-1  zig-2  zig-3  zig-4  zig-5  \\\n",
       "0         0         0  ...        0      0      0      0      0      0      0   \n",
       "1         0         0  ...        0      0      0      0      0      0      0   \n",
       "2         0         1  ...        0      0      0      0      0      0      0   \n",
       "3         0         1  ...        0      0      0      0      0      0      0   \n",
       "4         0         0  ...        0      0      0      0      0      0      1   \n",
       "\n",
       "   zig-8  ztf-3  zyg-8  \n",
       "0      0      0      0  \n",
       "1      0      0      0  \n",
       "2      0      0      0  \n",
       "3      0      0      0  \n",
       "4      0      0      0  \n",
       "\n",
       "[5 rows x 968 columns]"
      ]
     },
     "execution_count": 66,
     "metadata": {},
     "output_type": "execute_result"
    }
   ],
   "source": [
    "validatationData = pd.read_pickle('data/horbert.pkl')\n",
    "/print validatationData.shape\n",
    "genes = validatationData.columns[1:]\n",
    "print (genes[:3])\n",
    "validatationData.head()\n"
   ]
  },
  {
   "cell_type": "markdown",
   "metadata": {},
   "source": [
    "## Load data df"
   ]
  },
  {
   "cell_type": "code",
   "execution_count": 67,
   "metadata": {
    "ExecuteTime": {
     "end_time": "2019-02-04T22:08:49.054023Z",
     "start_time": "2019-02-04T22:08:47.348508Z"
    }
   },
   "outputs": [
    {
     "name": "stdout",
     "output_type": "stream",
     "text": [
      "(7603, 12355)\n"
     ]
    },
    {
     "data": {
      "text/html": [
       "<div>\n",
       "<style scoped>\n",
       "    .dataframe tbody tr th:only-of-type {\n",
       "        vertical-align: middle;\n",
       "    }\n",
       "\n",
       "    .dataframe tbody tr th {\n",
       "        vertical-align: top;\n",
       "    }\n",
       "\n",
       "    .dataframe thead th {\n",
       "        text-align: right;\n",
       "    }\n",
       "</style>\n",
       "<table border=\"1\" class=\"dataframe\">\n",
       "  <thead>\n",
       "    <tr style=\"text-align: right;\">\n",
       "      <th></th>\n",
       "      <th>aap-1</th>\n",
       "      <th>aat-1</th>\n",
       "      <th>aat-2</th>\n",
       "      <th>aat-3</th>\n",
       "      <th>aat-5</th>\n",
       "      <th>aat-6</th>\n",
       "      <th>aat-9</th>\n",
       "      <th>abf-2</th>\n",
       "      <th>abf-5</th>\n",
       "      <th>abf-6</th>\n",
       "      <th>...</th>\n",
       "      <th>D1046.18</th>\n",
       "      <th>F54H5.14</th>\n",
       "      <th>F59A7.14</th>\n",
       "      <th>F54E2.9</th>\n",
       "      <th>C17B7.15</th>\n",
       "      <th>T28A11.25</th>\n",
       "      <th>F35F10.19</th>\n",
       "      <th>C07G3.15</th>\n",
       "      <th>F54F2.14</th>\n",
       "      <th>R06F6.14</th>\n",
       "    </tr>\n",
       "  </thead>\n",
       "  <tbody>\n",
       "    <tr>\n",
       "      <th>cele-001-001.CATGACTCAA</th>\n",
       "      <td>0</td>\n",
       "      <td>0</td>\n",
       "      <td>0</td>\n",
       "      <td>0</td>\n",
       "      <td>0</td>\n",
       "      <td>0</td>\n",
       "      <td>0</td>\n",
       "      <td>0</td>\n",
       "      <td>0</td>\n",
       "      <td>0</td>\n",
       "      <td>...</td>\n",
       "      <td>0</td>\n",
       "      <td>0</td>\n",
       "      <td>0</td>\n",
       "      <td>0</td>\n",
       "      <td>0</td>\n",
       "      <td>0</td>\n",
       "      <td>0</td>\n",
       "      <td>0</td>\n",
       "      <td>0</td>\n",
       "      <td>0</td>\n",
       "    </tr>\n",
       "    <tr>\n",
       "      <th>cele-001-001.AACTACGGCT</th>\n",
       "      <td>0</td>\n",
       "      <td>0</td>\n",
       "      <td>0</td>\n",
       "      <td>0</td>\n",
       "      <td>0</td>\n",
       "      <td>0</td>\n",
       "      <td>0</td>\n",
       "      <td>0</td>\n",
       "      <td>0</td>\n",
       "      <td>0</td>\n",
       "      <td>...</td>\n",
       "      <td>0</td>\n",
       "      <td>0</td>\n",
       "      <td>0</td>\n",
       "      <td>0</td>\n",
       "      <td>0</td>\n",
       "      <td>0</td>\n",
       "      <td>0</td>\n",
       "      <td>0</td>\n",
       "      <td>0</td>\n",
       "      <td>0</td>\n",
       "    </tr>\n",
       "    <tr>\n",
       "      <th>cele-001-001.GAGGCTTATT</th>\n",
       "      <td>0</td>\n",
       "      <td>0</td>\n",
       "      <td>0</td>\n",
       "      <td>0</td>\n",
       "      <td>0</td>\n",
       "      <td>0</td>\n",
       "      <td>0</td>\n",
       "      <td>0</td>\n",
       "      <td>0</td>\n",
       "      <td>0</td>\n",
       "      <td>...</td>\n",
       "      <td>0</td>\n",
       "      <td>0</td>\n",
       "      <td>0</td>\n",
       "      <td>0</td>\n",
       "      <td>0</td>\n",
       "      <td>0</td>\n",
       "      <td>0</td>\n",
       "      <td>0</td>\n",
       "      <td>0</td>\n",
       "      <td>0</td>\n",
       "    </tr>\n",
       "    <tr>\n",
       "      <th>cele-001-001.GCCTGATATA</th>\n",
       "      <td>0</td>\n",
       "      <td>0</td>\n",
       "      <td>0</td>\n",
       "      <td>0</td>\n",
       "      <td>0</td>\n",
       "      <td>0</td>\n",
       "      <td>0</td>\n",
       "      <td>0</td>\n",
       "      <td>0</td>\n",
       "      <td>0</td>\n",
       "      <td>...</td>\n",
       "      <td>0</td>\n",
       "      <td>0</td>\n",
       "      <td>0</td>\n",
       "      <td>0</td>\n",
       "      <td>0</td>\n",
       "      <td>0</td>\n",
       "      <td>0</td>\n",
       "      <td>0</td>\n",
       "      <td>0</td>\n",
       "      <td>0</td>\n",
       "    </tr>\n",
       "    <tr>\n",
       "      <th>cele-001-001.CTGATCGACC</th>\n",
       "      <td>0</td>\n",
       "      <td>0</td>\n",
       "      <td>0</td>\n",
       "      <td>0</td>\n",
       "      <td>0</td>\n",
       "      <td>0</td>\n",
       "      <td>0</td>\n",
       "      <td>0</td>\n",
       "      <td>0</td>\n",
       "      <td>0</td>\n",
       "      <td>...</td>\n",
       "      <td>0</td>\n",
       "      <td>0</td>\n",
       "      <td>0</td>\n",
       "      <td>0</td>\n",
       "      <td>0</td>\n",
       "      <td>0</td>\n",
       "      <td>0</td>\n",
       "      <td>0</td>\n",
       "      <td>0</td>\n",
       "      <td>0</td>\n",
       "    </tr>\n",
       "  </tbody>\n",
       "</table>\n",
       "<p>5 rows × 12355 columns</p>\n",
       "</div>"
      ],
      "text/plain": [
       "                         aap-1  aat-1  aat-2  aat-3  aat-5  aat-6  aat-9  \\\n",
       "cele-001-001.CATGACTCAA      0      0      0      0      0      0      0   \n",
       "cele-001-001.AACTACGGCT      0      0      0      0      0      0      0   \n",
       "cele-001-001.GAGGCTTATT      0      0      0      0      0      0      0   \n",
       "cele-001-001.GCCTGATATA      0      0      0      0      0      0      0   \n",
       "cele-001-001.CTGATCGACC      0      0      0      0      0      0      0   \n",
       "\n",
       "                         abf-2  abf-5  abf-6    ...     D1046.18  F54H5.14  \\\n",
       "cele-001-001.CATGACTCAA      0      0      0    ...            0         0   \n",
       "cele-001-001.AACTACGGCT      0      0      0    ...            0         0   \n",
       "cele-001-001.GAGGCTTATT      0      0      0    ...            0         0   \n",
       "cele-001-001.GCCTGATATA      0      0      0    ...            0         0   \n",
       "cele-001-001.CTGATCGACC      0      0      0    ...            0         0   \n",
       "\n",
       "                         F59A7.14  F54E2.9  C17B7.15  T28A11.25  F35F10.19  \\\n",
       "cele-001-001.CATGACTCAA         0        0         0          0          0   \n",
       "cele-001-001.AACTACGGCT         0        0         0          0          0   \n",
       "cele-001-001.GAGGCTTATT         0        0         0          0          0   \n",
       "cele-001-001.GCCTGATATA         0        0         0          0          0   \n",
       "cele-001-001.CTGATCGACC         0        0         0          0          0   \n",
       "\n",
       "                         C07G3.15  F54F2.14  R06F6.14  \n",
       "cele-001-001.CATGACTCAA         0         0         0  \n",
       "cele-001-001.AACTACGGCT         0         0         0  \n",
       "cele-001-001.GAGGCTTATT         0         0         0  \n",
       "cele-001-001.GCCTGATATA         0         0         0  \n",
       "cele-001-001.CTGATCGACC         0         0         0  \n",
       "\n",
       "[5 rows x 12355 columns]"
      ]
     },
     "execution_count": 67,
     "metadata": {},
     "output_type": "execute_result"
    }
   ],
   "source": [
    "df = pd.read_pickle('data/df.pkl')\n",
    "outputExcelFileName = 'no_imputation_percentual_overap_validation_prediction.xlsx'\n",
    "clustersFile = 'data/no_imputation_clusters.pickle'\n",
    "/print df.shape\n",
    "df.head()"
   ]
  },
  {
   "cell_type": "markdown",
   "metadata": {},
   "source": [
    "## Load cluster values"
   ]
  },
  {
   "cell_type": "code",
   "execution_count": 68,
   "metadata": {
    "ExecuteTime": {
     "end_time": "2019-02-04T22:08:51.172596Z",
     "start_time": "2019-02-04T22:08:51.168708Z"
    }
   },
   "outputs": [],
   "source": [
    "# filename = '../statistical_tests/output/97GMM_umap.csv'\n",
    "# clusters = pd.read_csv(filename,index_col=0 )\n",
    "# print(clusters.shape)\n",
    "# clusters = clusters['cluster'].values"
   ]
  },
  {
   "cell_type": "markdown",
   "metadata": {},
   "source": [
    "## There are 123 genes missing"
   ]
  },
  {
   "cell_type": "code",
   "execution_count": 69,
   "metadata": {
    "ExecuteTime": {
     "end_time": "2019-02-04T22:08:53.293722Z",
     "start_time": "2019-02-04T22:08:52.817783Z"
    }
   },
   "outputs": [
    {
     "data": {
      "text/plain": [
       "(967, Counter({False: 123, True: 844}))"
      ]
     },
     "execution_count": 69,
     "metadata": {},
     "output_type": "execute_result"
    }
   ],
   "source": [
    "len(genes), Counter(np.isin(genes, df.columns))"
   ]
  },
  {
   "cell_type": "code",
   "execution_count": 70,
   "metadata": {
    "ExecuteTime": {
     "end_time": "2019-02-04T22:08:58.043394Z",
     "start_time": "2019-02-04T22:08:57.530322Z"
    }
   },
   "outputs": [
    {
     "name": "stdout",
     "output_type": "stream",
     "text": [
      "['B0207.7', 'C01H6.9', 'C32B5.6', 'C41G7.6 ', 'C45G9.1', 'C49G9.1', 'F08B4.4 ', 'F08G12.1 ', 'F25B4.2', 'F32B6.10', 'F49H12.4 ', 'F57H12.7', 'F58B4.3 ', 'H03A11.2 ', 'PVDL', 'R02E12.4 ', 'T17H7.1', 'T27A3.1', 'W01B6.2', 'Y113G7A.15 ', 'ZK792.1 ', 'ZK856.14 ', 'ant-1.4', 'atgr-18', 'ceh-28', 'ceh-51', 'ceh-63', 'che-1', 'clec-38', 'cyp-14A3', 'djr-1.2', 'dylt-2', 'egl-17', 'gcy-13', 'gcy-2', 'grd-8', 'grl-6', 'hlh-14', 'hlh-16', 'hlh-25', 'hlh-29', 'hlh-34', 'ins-32', 'ins-35', 'ins-7', 'inx-17', 'inx-6', 'lin-32', 'lin-58', 'lsy-27', 'lsy-6', 'mab-23', 'mir-124', 'mir-241', 'mir-273', 'mir-71', 'mir-84', 'mom-2', 'mps-3', 'mps-4', 'nas-3', 'ncx-6', 'nhr-111', 'nhr-253', 'nhr-83', 'nhx-1', 'nkat-1', 'nlp-22', 'nlp-27', 'oig-3', 'pax-3', 'pin-2', 'pqn-47', 'rcn-1', 'sams-5', 'snai-2', 'snf-5', 'spp-12', 'spp-3', 'sra-7', 'sra-9', 'srab-1', 'srab-20', 'srab-23', 'srb-6', 'srd-1', 'srd-16', 'sre-11', 'sre-30', 'sre-37', 'srg-13', 'srg-36', 'srg-41', 'srg-47', 'srg-8', 'srh-10', 'srh-132', 'srh-139', 'srh-142', 'srh-18', 'srh-281', 'sri-14', 'sri-51', 'srsx-3', 'srsx-37', 'srt-26', 'srt-45', 'sru-38', 'sru-4', 'srv-11', 'srx-47', 'srx-76', 'srz-1', 'srz-13', 'srz-6', 'str-1', 'str-2', 'str-220', 'str-3', 'str-33', 'str-44', 'tor-2', 'ver-2']\n"
     ]
    }
   ],
   "source": [
    "print(list(genes[~np.isin(genes, df.columns)]))"
   ]
  },
  {
   "cell_type": "markdown",
   "metadata": {
    "ExecuteTime": {
     "end_time": "2019-02-04T17:28:29.071898Z",
     "start_time": "2019-02-04T17:28:29.065913Z"
    }
   },
   "source": [
    "## Remove missing genes from validation data"
   ]
  },
  {
   "cell_type": "code",
   "execution_count": 71,
   "metadata": {
    "ExecuteTime": {
     "end_time": "2019-02-04T22:09:00.077688Z",
     "start_time": "2019-02-04T22:08:59.997222Z"
    }
   },
   "outputs": [
    {
     "data": {
      "text/html": [
       "<div>\n",
       "<style scoped>\n",
       "    .dataframe tbody tr th:only-of-type {\n",
       "        vertical-align: middle;\n",
       "    }\n",
       "\n",
       "    .dataframe tbody tr th {\n",
       "        vertical-align: top;\n",
       "    }\n",
       "\n",
       "    .dataframe thead th {\n",
       "        text-align: right;\n",
       "    }\n",
       "</style>\n",
       "<table border=\"1\" class=\"dataframe\">\n",
       "  <thead>\n",
       "    <tr style=\"text-align: right;\">\n",
       "      <th></th>\n",
       "      <th>class</th>\n",
       "      <th>B0207.7</th>\n",
       "      <th>C01H6.9</th>\n",
       "      <th>C03A3.3</th>\n",
       "      <th>C04G2.2</th>\n",
       "      <th>C15C8.4</th>\n",
       "      <th>C16B8.4</th>\n",
       "      <th>C32B5.6</th>\n",
       "      <th>C33A11.2</th>\n",
       "      <th>C33A12.4</th>\n",
       "      <th>...</th>\n",
       "      <th>wrk-1</th>\n",
       "      <th>xrn-2</th>\n",
       "      <th>zig-1</th>\n",
       "      <th>zig-2</th>\n",
       "      <th>zig-3</th>\n",
       "      <th>zig-4</th>\n",
       "      <th>zig-5</th>\n",
       "      <th>zig-8</th>\n",
       "      <th>ztf-3</th>\n",
       "      <th>zyg-8</th>\n",
       "    </tr>\n",
       "  </thead>\n",
       "  <tbody>\n",
       "    <tr>\n",
       "      <th>0</th>\n",
       "      <td>ADA</td>\n",
       "      <td>0</td>\n",
       "      <td>0</td>\n",
       "      <td>0</td>\n",
       "      <td>0</td>\n",
       "      <td>0</td>\n",
       "      <td>0</td>\n",
       "      <td>0</td>\n",
       "      <td>0</td>\n",
       "      <td>0</td>\n",
       "      <td>...</td>\n",
       "      <td>0</td>\n",
       "      <td>0</td>\n",
       "      <td>0</td>\n",
       "      <td>0</td>\n",
       "      <td>0</td>\n",
       "      <td>0</td>\n",
       "      <td>0</td>\n",
       "      <td>0</td>\n",
       "      <td>0</td>\n",
       "      <td>0</td>\n",
       "    </tr>\n",
       "    <tr>\n",
       "      <th>1</th>\n",
       "      <td>ADE</td>\n",
       "      <td>0</td>\n",
       "      <td>0</td>\n",
       "      <td>0</td>\n",
       "      <td>0</td>\n",
       "      <td>0</td>\n",
       "      <td>0</td>\n",
       "      <td>0</td>\n",
       "      <td>0</td>\n",
       "      <td>0</td>\n",
       "      <td>...</td>\n",
       "      <td>0</td>\n",
       "      <td>0</td>\n",
       "      <td>0</td>\n",
       "      <td>0</td>\n",
       "      <td>0</td>\n",
       "      <td>0</td>\n",
       "      <td>0</td>\n",
       "      <td>0</td>\n",
       "      <td>0</td>\n",
       "      <td>0</td>\n",
       "    </tr>\n",
       "    <tr>\n",
       "      <th>2</th>\n",
       "      <td>ADF</td>\n",
       "      <td>0</td>\n",
       "      <td>0</td>\n",
       "      <td>0</td>\n",
       "      <td>0</td>\n",
       "      <td>0</td>\n",
       "      <td>0</td>\n",
       "      <td>0</td>\n",
       "      <td>0</td>\n",
       "      <td>1</td>\n",
       "      <td>...</td>\n",
       "      <td>0</td>\n",
       "      <td>0</td>\n",
       "      <td>0</td>\n",
       "      <td>0</td>\n",
       "      <td>0</td>\n",
       "      <td>0</td>\n",
       "      <td>0</td>\n",
       "      <td>0</td>\n",
       "      <td>0</td>\n",
       "      <td>0</td>\n",
       "    </tr>\n",
       "    <tr>\n",
       "      <th>3</th>\n",
       "      <td>ADL</td>\n",
       "      <td>0</td>\n",
       "      <td>0</td>\n",
       "      <td>0</td>\n",
       "      <td>0</td>\n",
       "      <td>0</td>\n",
       "      <td>0</td>\n",
       "      <td>0</td>\n",
       "      <td>0</td>\n",
       "      <td>1</td>\n",
       "      <td>...</td>\n",
       "      <td>0</td>\n",
       "      <td>0</td>\n",
       "      <td>0</td>\n",
       "      <td>0</td>\n",
       "      <td>0</td>\n",
       "      <td>0</td>\n",
       "      <td>0</td>\n",
       "      <td>0</td>\n",
       "      <td>0</td>\n",
       "      <td>0</td>\n",
       "    </tr>\n",
       "    <tr>\n",
       "      <th>4</th>\n",
       "      <td>AFD</td>\n",
       "      <td>0</td>\n",
       "      <td>0</td>\n",
       "      <td>0</td>\n",
       "      <td>0</td>\n",
       "      <td>0</td>\n",
       "      <td>0</td>\n",
       "      <td>0</td>\n",
       "      <td>0</td>\n",
       "      <td>0</td>\n",
       "      <td>...</td>\n",
       "      <td>0</td>\n",
       "      <td>0</td>\n",
       "      <td>0</td>\n",
       "      <td>0</td>\n",
       "      <td>0</td>\n",
       "      <td>0</td>\n",
       "      <td>1</td>\n",
       "      <td>0</td>\n",
       "      <td>0</td>\n",
       "      <td>0</td>\n",
       "    </tr>\n",
       "  </tbody>\n",
       "</table>\n",
       "<p>5 rows × 968 columns</p>\n",
       "</div>"
      ],
      "text/plain": [
       "  class  B0207.7  C01H6.9  C03A3.3  C04G2.2  C15C8.4  C16B8.4  C32B5.6  \\\n",
       "0   ADA        0        0        0        0        0        0        0   \n",
       "1   ADE        0        0        0        0        0        0        0   \n",
       "2   ADF        0        0        0        0        0        0        0   \n",
       "3   ADL        0        0        0        0        0        0        0   \n",
       "4   AFD        0        0        0        0        0        0        0   \n",
       "\n",
       "   C33A11.2  C33A12.4  ...    wrk-1  xrn-2  zig-1  zig-2  zig-3  zig-4  zig-5  \\\n",
       "0         0         0  ...        0      0      0      0      0      0      0   \n",
       "1         0         0  ...        0      0      0      0      0      0      0   \n",
       "2         0         1  ...        0      0      0      0      0      0      0   \n",
       "3         0         1  ...        0      0      0      0      0      0      0   \n",
       "4         0         0  ...        0      0      0      0      0      0      1   \n",
       "\n",
       "   zig-8  ztf-3  zyg-8  \n",
       "0      0      0      0  \n",
       "1      0      0      0  \n",
       "2      0      0      0  \n",
       "3      0      0      0  \n",
       "4      0      0      0  \n",
       "\n",
       "[5 rows x 968 columns]"
      ]
     },
     "execution_count": 71,
     "metadata": {},
     "output_type": "execute_result"
    }
   ],
   "source": [
    "validatationData.head()"
   ]
  },
  {
   "cell_type": "code",
   "execution_count": 72,
   "metadata": {
    "ExecuteTime": {
     "end_time": "2019-02-04T22:09:01.960255Z",
     "start_time": "2019-02-04T22:09:01.400124Z"
    }
   },
   "outputs": [
    {
     "name": "stdout",
     "output_type": "stream",
     "text": [
      "Validation file contains 118 clusters\n"
     ]
    },
    {
     "data": {
      "text/plain": [
       "(118, 845)"
      ]
     },
     "execution_count": 72,
     "metadata": {},
     "output_type": "execute_result"
    }
   ],
   "source": [
    "validatationData = validatationData[np.concatenate([['class'], genes[np.isin(genes, df.columns)]])]\n",
    "genes = validatationData.columns[1:]\n",
    "print(f\"Validation file contains {len(validatationData['class'].unique())} clusters\")\n",
    "validatationData.shape"
   ]
  },
  {
   "cell_type": "code",
   "execution_count": 73,
   "metadata": {
    "ExecuteTime": {
     "end_time": "2019-02-04T22:09:15.226368Z",
     "start_time": "2019-02-04T22:09:15.197527Z"
    }
   },
   "outputs": [],
   "source": [
    "with open(clustersFile, 'rb') as handle:\n",
    "    clusters = pickle.load(handle)\n",
    "\n",
    "predictedClusters = list(clusters.keys())\n",
    "trueClusters = validatationData['class'].unique()"
   ]
  },
  {
   "cell_type": "code",
   "execution_count": 74,
   "metadata": {
    "ExecuteTime": {
     "end_time": "2019-02-04T22:09:24.597931Z",
     "start_time": "2019-02-04T22:09:16.313401Z"
    }
   },
   "outputs": [
    {
     "name": "stderr",
     "output_type": "stream",
     "text": [
      "\r",
      "0it [00:00, ?it/s]"
     ]
    },
    {
     "name": "stdout",
     "output_type": "stream",
     "text": [
      "27.0 9.0 18.0 0.0 9.0 9.0 18.0 27.0 0.0 9.0 18.0 36.0 18.0 18.0 9.0 54.0 18.0 9.0 36.0 18.0 9.0 9.0 36.0 18.0 27.0 0.0 0.0 27.0 18.0 18.0 18.0 27.0 36.0 5.0 8.0 37.0 2.0 11.0 14.0 11.0 8.0 5.0 5.0 8.0 20.0 8.0 11.0 2.0 14.0 2.0 5.0 11.0 28.0 25.0 11.0 22.0 11.0 14.0 8.0 42.0 14.0 20.0 5.0 11.0 14.0 20.0 "
     ]
    },
    {
     "name": "stderr",
     "output_type": "stream",
     "text": [
      "\r",
      "2it [00:00, 13.50it/s]"
     ]
    },
    {
     "name": "stdout",
     "output_type": "stream",
     "text": [
      "10.0 8.0 33.0 10.0 8.0 4.0 10.0 5.0 6.0 6.0 9.0 9.0 8.0 8.0 8.0 6.0 10.0 4.0 20.0 28.0 22.0 10.0 18.0 6.0 13.0 8.0 25.0 10.0 28.0 6.0 8.0 16.0 22.0 8.0 6.0 39.0 8.0 6.0 5.0 13.0 4.0 2.0 5.0 10.0 9.0 9.0 8.0 9.0 8.0 10.0 3.0 13.0 29.0 31.0 6.0 15.0 8.0 12.0 8.0 24.0 6.0 24.0 3.0 8.0 14.0 23.0 "
     ]
    },
    {
     "name": "stderr",
     "output_type": "stream",
     "text": [
      "\r",
      "4it [00:00, 13.41it/s]"
     ]
    },
    {
     "name": "stdout",
     "output_type": "stream",
     "text": [
      "5.0 8.0 16.0 8.0 8.0 3.0 11.0 5.0 5.0 18.0 13.0 6.0 10.0 10.0 15.0 16.0 11.0 11.0 52.0 35.0 25.0 6.0 30.0 10.0 23.0 6.0 16.0 13.0 27.0 8.0 3.0 23.0 28.0 11.0 19.0 11.0 26.0 23.0 7.0 42.0 3.0 11.0 11.0 30.0 7.0 19.0 7.0 23.0 15.0 26.0 11.0 11.0 3.0 15.0 15.0 7.0 19.0 7.0 11.0 7.0 7.0 7.0 15.0 19.0 7.0 7.0 "
     ]
    },
    {
     "name": "stderr",
     "output_type": "stream",
     "text": [
      "\r",
      "6it [00:00, 14.03it/s]"
     ]
    },
    {
     "name": "stdout",
     "output_type": "stream",
     "text": [
      "9.0 9.0 0.0 27.0 13.0 18.0 36.0 9.0 9.0 31.0 22.0 18.0 27.0 13.0 9.0 50.0 27.0 31.0 4.0 4.0 9.0 22.0 4.0 27.0 13.0 27.0 9.0 36.0 0.0 22.0 31.0 9.0 9.0 17.0 0.0 3.0 3.0 10.0 0.0 21.0 14.0 7.0 3.0 25.0 17.0 32.0 10.0 17.0 46.0 10.0 17.0 17.0 10.0 17.0 14.0 14.0 10.0 32.0 3.0 10.0 21.0 10.0 10.0 10.0 17.0 21.0 "
     ]
    },
    {
     "name": "stderr",
     "output_type": "stream",
     "text": [
      "\r",
      "8it [00:00, 14.56it/s]"
     ]
    },
    {
     "name": "stdout",
     "output_type": "stream",
     "text": [
      "10.0 30.0 5.0 25.0 25.0 15.0 35.0 5.0 5.0 10.0 15.0 25.0 25.0 10.0 10.0 25.0 20.0 20.0 10.0 5.0 10.0 5.0 0.0 20.0 10.0 15.0 15.0 10.0 10.0 20.0 30.0 5.0 5.0 8.0 21.0 0.0 23.0 9.0 18.0 22.0 7.0 12.0 21.0 21.0 14.0 22.0 14.0 11.0 25.0 18.0 15.0 12.0 14.0 8.0 11.0 5.0 15.0 18.0 15.0 9.0 19.0 7.0 14.0 22.0 14.0 15.0 "
     ]
    },
    {
     "name": "stderr",
     "output_type": "stream",
     "text": [
      "\r",
      "10it [00:00, 14.93it/s]"
     ]
    },
    {
     "name": "stdout",
     "output_type": "stream",
     "text": [
      "19.0 9.0 14.0 14.0 14.0 19.0 28.0 14.0 9.0 9.0 19.0 38.0 14.0 14.0 14.0 42.0 19.0 14.0 23.0 23.0 14.0 28.0 23.0 19.0 23.0 19.0 4.0 23.0 4.0 14.0 28.0 19.0 14.0 13.0 13.0 4.0 8.0 13.0 8.0 8.0 13.0 13.0 8.0 17.0 13.0 17.0 39.0 8.0 13.0 4.0 30.0 8.0 4.0 21.0 8.0 4.0 56.0 13.0 17.0 8.0 8.0 0.0 17.0 26.0 8.0 4.0 "
     ]
    },
    {
     "name": "stderr",
     "output_type": "stream",
     "text": [
      "\r",
      "12it [00:00, 15.05it/s]"
     ]
    },
    {
     "name": "stdout",
     "output_type": "stream",
     "text": [
      "4.0 14.0 4.0 6.0 16.0 13.0 6.0 55.0 9.0 12.0 6.0 35.0 9.0 12.0 14.0 10.0 6.0 14.0 9.0 9.0 6.0 13.0 12.0 10.0 12.0 17.0 9.0 11.0 10.0 10.0 16.0 8.0 9.0 5.0 17.0 8.0 23.0 38.0 8.0 11.0 17.0 8.0 14.0 5.0 38.0 11.0 8.0 14.0 11.0 17.0 17.0 8.0 11.0 5.0 20.0 17.0 14.0 14.0 17.0 14.0 8.0 2.0 17.0 26.0 8.0 5.0 "
     ]
    },
    {
     "name": "stderr",
     "output_type": "stream",
     "text": [
      "\r",
      "14it [00:00, 15.32it/s]"
     ]
    },
    {
     "name": "stdout",
     "output_type": "stream",
     "text": [
      "2.0 5.0 29.0 2.0 8.0 2.0 5.0 5.0 5.0 2.0 5.0 2.0 8.0 2.0 8.0 14.0 5.0 5.0 14.0 35.0 26.0 8.0 64.0 11.0 20.0 8.0 26.0 11.0 23.0 11.0 2.0 8.0 17.0 19.0 71.0 0.0 23.0 23.0 47.0 19.0 4.0 9.0 42.0 19.0 4.0 9.0 23.0 4.0 4.0 38.0 4.0 0.0 0.0 0.0 23.0 9.0 19.0 0.0 19.0 4.0 4.0 0.0 0.0 4.0 0.0 0.0 "
     ]
    },
    {
     "name": "stderr",
     "output_type": "stream",
     "text": [
      "\r",
      "16it [00:01, 15.62it/s]"
     ]
    },
    {
     "name": "stdout",
     "output_type": "stream",
     "text": [
      "7.0 6.0 20.0 5.0 5.0 7.0 10.0 4.0 6.0 10.0 12.0 7.0 7.0 9.0 15.0 7.0 11.0 10.0 22.0 26.0 23.0 11.0 17.0 10.0 15.0 7.0 16.0 11.0 19.0 8.0 7.0 30.0 30.0 3.0 5.0 35.0 6.0 3.0 5.0 11.0 10.0 3.0 8.0 8.0 3.0 6.0 8.0 13.0 11.0 6.0 8.0 28.0 49.0 35.0 11.0 27.0 13.0 25.0 10.0 22.0 18.0 30.0 6.0 5.0 18.0 28.0 "
     ]
    },
    {
     "name": "stderr",
     "output_type": "stream",
     "text": [
      "\r",
      "18it [00:01, 12.11it/s]"
     ]
    },
    {
     "name": "stdout",
     "output_type": "stream",
     "text": [
      "4.0 5.0 46.0 7.0 6.0 5.0 8.0 4.0 4.0 8.0 11.0 7.0 9.0 9.0 8.0 13.0 11.0 5.0 17.0 31.0 34.0 11.0 19.0 8.0 15.0 13.0 21.0 13.0 28.0 8.0 10.0 18.0 30.0 11.0 4.0 39.0 4.0 0.0 6.0 10.0 4.0 9.0 6.0 11.0 4.0 9.0 8.0 6.0 8.0 5.0 6.0 18.0 27.0 31.0 9.0 16.0 6.0 13.0 7.0 16.0 7.0 25.0 4.0 7.0 18.0 20.0 "
     ]
    },
    {
     "name": "stderr",
     "output_type": "stream",
     "text": [
      "\r",
      "20it [00:01, 12.70it/s]"
     ]
    },
    {
     "name": "stdout",
     "output_type": "stream",
     "text": [
      "5.0 6.0 50.0 7.0 6.0 3.0 7.0 2.0 7.0 7.0 12.0 2.0 5.0 2.0 8.0 3.0 6.0 2.0 19.0 35.0 37.0 6.0 21.0 5.0 6.0 7.0 26.0 5.0 26.0 6.0 10.0 16.0 21.0 8.0 2.0 34.0 5.0 5.0 4.0 9.0 4.0 6.0 9.0 17.0 7.0 13.0 12.0 7.0 11.0 6.0 5.0 21.0 29.0 48.0 8.0 18.0 10.0 13.0 9.0 21.0 7.0 21.0 10.0 9.0 15.0 22.0 "
     ]
    },
    {
     "name": "stderr",
     "output_type": "stream",
     "text": [
      "\r",
      "22it [00:01, 13.52it/s]"
     ]
    },
    {
     "name": "stdout",
     "output_type": "stream",
     "text": [
      "6.0 13.0 6.0 10.0 20.0 13.0 26.0 20.0 6.0 16.0 16.0 33.0 16.0 6.0 13.0 26.0 13.0 23.0 16.0 6.0 13.0 16.0 13.0 30.0 20.0 20.0 13.0 13.0 16.0 26.0 30.0 23.0 26.0 7.0 19.0 5.0 33.0 17.0 14.0 32.0 5.0 10.0 42.0 5.0 16.0 16.0 16.0 14.0 10.0 21.0 16.0 3.0 14.0 1.0 16.0 0.0 16.0 7.0 30.0 19.0 17.0 1.0 10.0 16.0 5.0 8.0 "
     ]
    },
    {
     "name": "stderr",
     "output_type": "stream",
     "text": [
      "\r",
      "24it [00:01, 14.20it/s]"
     ]
    },
    {
     "name": "stdout",
     "output_type": "stream",
     "text": [
      "17.0 34.0 0.0 34.0 13.0 20.0 34.0 10.0 6.0 41.0 10.0 10.0 17.0 13.0 6.0 17.0 17.0 13.0 6.0 3.0 3.0 10.0 0.0 6.0 6.0 27.0 13.0 13.0 3.0 17.0 17.0 3.0 3.0 12.0 34.0 0.0 25.0 18.0 21.0 43.0 3.0 6.0 40.0 12.0 21.0 12.0 25.0 9.0 9.0 18.0 12.0 3.0 6.0 3.0 15.0 0.0 18.0 6.0 28.0 18.0 18.0 3.0 6.0 18.0 3.0 3.0 "
     ]
    },
    {
     "name": "stderr",
     "output_type": "stream",
     "text": [
      "\r",
      "26it [00:02, 10.31it/s]"
     ]
    },
    {
     "name": "stdout",
     "output_type": "stream",
     "text": [
      "6.0 31.0 3.0 34.0 13.0 13.0 37.0 3.0 10.0 44.0 3.0 10.0 20.0 27.0 13.0 17.0 31.0 24.0 0.0 13.0 3.0 17.0 0.0 13.0 6.0 37.0 17.0 20.0 3.0 10.0 20.0 3.0 3.0 10.0 20.0 0.0 10.0 20.0 10.0 20.0 0.0 20.0 10.0 0.0 10.0 20.0 10.0 10.0 20.0 10.0 40.0 20.0 10.0 0.0 10.0 10.0 20.0 10.0 0.0 0.0 20.0 10.0 20.0 20.0 20.0 20.0 "
     ]
    },
    {
     "name": "stderr",
     "output_type": "stream",
     "text": [
      "\r",
      "28it [00:02, 11.67it/s]"
     ]
    },
    {
     "name": "stdout",
     "output_type": "stream",
     "text": [
      "10.0 13.0 3.0 16.0 16.0 13.0 40.0 6.0 3.0 36.0 13.0 13.0 10.0 40.0 13.0 16.0 16.0 23.0 3.0 13.0 10.0 20.0 10.0 13.0 6.0 23.0 10.0 26.0 0.0 16.0 23.0 6.0 6.0 18.0 27.0 0.0 27.0 36.0 9.0 9.0 9.0 9.0 18.0 18.0 45.0 27.0 18.0 0.0 45.0 27.0 27.0 9.0 9.0 18.0 9.0 0.0 45.0 18.0 27.0 9.0 9.0 0.0 9.0 36.0 18.0 9.0 "
     ]
    },
    {
     "name": "stderr",
     "output_type": "stream",
     "text": [
      "\r",
      "30it [00:02, 12.69it/s]"
     ]
    },
    {
     "name": "stdout",
     "output_type": "stream",
     "text": [
      "0.0 5.0 15.0 20.0 10.0 10.0 30.0 10.0 15.0 30.0 10.0 25.0 30.0 15.0 5.0 30.0 25.0 25.0 15.0 15.0 25.0 15.0 10.0 15.0 15.0 35.0 10.0 20.0 10.0 20.0 25.0 30.0 20.0 11.0 3.0 0.0 7.0 7.0 7.0 15.0 7.0 7.0 19.0 11.0 19.0 38.0 0.0 15.0 15.0 23.0 19.0 26.0 19.0 7.0 11.0 3.0 7.0 19.0 23.0 0.0 15.0 11.0 11.0 19.0 11.0 11.0 "
     ]
    },
    {
     "name": "stderr",
     "output_type": "stream",
     "text": [
      "\r",
      "32it [00:02, 13.68it/s]"
     ]
    },
    {
     "name": "stdout",
     "output_type": "stream",
     "text": [
      "0.0 9.0 0.0 9.0 9.0 36.0 18.0 18.0 0.0 9.0 0.0 18.0 0.0 18.0 9.0 9.0 9.0 72.0 0.0 9.0 0.0 9.0 0.0 18.0 9.0 0.0 18.0 9.0 0.0 45.0 54.0 0.0 18.0 3.0 13.0 5.0 8.0 23.0 8.0 6.0 55.0 8.0 16.0 3.0 40.0 10.0 10.0 15.0 11.0 6.0 10.0 5.0 5.0 6.0 15.0 16.0 11.0 15.0 16.0 10.0 8.0 8.0 15.0 13.0 6.0 8.0 "
     ]
    },
    {
     "name": "stderr",
     "output_type": "stream",
     "text": [
      "\r",
      "34it [00:02, 12.71it/s]"
     ]
    },
    {
     "name": "stdout",
     "output_type": "stream",
     "text": [
      "6.0 2.0 46.0 6.0 2.0 0.0 6.0 2.0 4.0 2.0 11.0 6.0 4.0 6.0 9.0 6.0 6.0 4.0 20.0 39.0 27.0 6.0 20.0 6.0 16.0 9.0 18.0 11.0 51.0 6.0 2.0 11.0 20.0 7.0 8.0 33.0 14.0 11.0 5.0 7.0 2.0 2.0 8.0 8.0 4.0 7.0 5.0 5.0 4.0 8.0 7.0 32.0 36.0 35.0 5.0 18.0 5.0 12.0 5.0 22.0 8.0 30.0 8.0 9.0 11.0 19.0 "
     ]
    },
    {
     "name": "stderr",
     "output_type": "stream",
     "text": [
      "\r",
      "36it [00:02, 13.43it/s]"
     ]
    },
    {
     "name": "stdout",
     "output_type": "stream",
     "text": [
      "11.0 8.0 23.0 7.0 9.0 5.0 9.0 9.0 5.0 11.0 8.0 7.0 12.0 11.0 11.0 10.0 8.0 11.0 37.0 25.0 26.0 11.0 16.0 8.0 15.0 8.0 12.0 10.0 25.0 9.0 7.0 18.0 26.0 2.0 4.0 15.0 8.0 10.0 4.0 13.0 8.0 6.0 4.0 10.0 10.0 13.0 6.0 15.0 13.0 8.0 8.0 23.0 30.0 21.0 10.0 30.0 8.0 52.0 8.0 13.0 15.0 26.0 8.0 2.0 21.0 28.0 "
     ]
    },
    {
     "name": "stderr",
     "output_type": "stream",
     "text": [
      "\r",
      "38it [00:02, 13.88it/s]"
     ]
    },
    {
     "name": "stdout",
     "output_type": "stream",
     "text": [
      "9.0 12.0 6.0 6.0 34.0 12.0 18.0 15.0 9.0 12.0 18.0 28.0 9.0 18.0 6.0 15.0 18.0 15.0 15.0 9.0 12.0 21.0 15.0 9.0 12.0 15.0 9.0 9.0 12.0 18.0 18.0 12.0 9.0 11.0 14.0 4.0 11.0 17.0 19.0 10.0 7.0 49.0 16.0 16.0 19.0 11.0 11.0 14.0 7.0 7.0 14.0 2.0 10.0 2.0 14.0 5.0 13.0 8.0 16.0 13.0 11.0 8.0 10.0 26.0 8.0 0.0 "
     ]
    },
    {
     "name": "stderr",
     "output_type": "stream",
     "text": [
      "\r",
      "40it [00:03, 13.02it/s]"
     ]
    },
    {
     "name": "stdout",
     "output_type": "stream",
     "text": [
      "12.0 7.0 20.0 7.0 10.0 12.0 17.0 7.0 15.0 5.0 10.0 10.0 7.0 7.0 2.0 2.0 0.0 7.0 2.0 25.0 17.0 5.0 20.0 7.0 10.0 5.0 46.0 15.0 12.0 10.0 15.0 5.0 10.0 13.0 63.0 3.0 26.0 26.0 23.0 10.0 6.0 13.0 26.0 13.0 13.0 16.0 6.0 16.0 0.0 23.0 16.0 3.0 0.0 6.0 13.0 6.0 20.0 3.0 20.0 3.0 6.0 3.0 0.0 16.0 3.0 3.0 "
     ]
    },
    {
     "name": "stderr",
     "output_type": "stream",
     "text": [
      "\r",
      "42it [00:03, 13.90it/s]"
     ]
    },
    {
     "name": "stdout",
     "output_type": "stream",
     "text": [
      "10.0 73.0 0.0 26.0 21.0 31.0 10.0 0.0 10.0 31.0 10.0 10.0 15.0 15.0 15.0 0.0 21.0 5.0 0.0 0.0 5.0 5.0 5.0 31.0 0.0 26.0 10.0 5.0 0.0 0.0 5.0 0.0 0.0 7.0 23.0 0.0 15.0 0.0 69.0 7.0 0.0 0.0 7.0 7.0 0.0 7.0 7.0 7.0 0.0 7.0 30.0 0.0 0.0 7.0 15.0 7.0 38.0 7.0 7.0 0.0 7.0 0.0 23.0 30.0 0.0 0.0 "
     ]
    },
    {
     "name": "stderr",
     "output_type": "stream",
     "text": [
      "\r",
      "44it [00:03, 14.71it/s]"
     ]
    },
    {
     "name": "stdout",
     "output_type": "stream",
     "text": [
      "9.0 15.0 6.0 18.0 6.0 15.0 25.0 4.0 11.0 36.0 20.0 15.0 13.0 13.0 9.0 9.0 15.0 20.0 4.0 9.0 6.0 15.0 0.0 18.0 6.0 40.0 11.0 18.0 4.0 18.0 13.0 6.0 2.0 12.0 12.0 0.0 12.0 8.0 41.0 20.0 16.0 20.0 12.0 4.0 20.0 12.0 8.0 16.0 4.0 8.0 58.0 0.0 8.0 4.0 25.0 4.0 20.0 12.0 16.0 4.0 0.0 8.0 29.0 33.0 12.0 8.0 "
     ]
    },
    {
     "name": "stderr",
     "output_type": "stream",
     "text": [
      "\r",
      "46it [00:03, 15.20it/s]"
     ]
    },
    {
     "name": "stdout",
     "output_type": "stream",
     "text": [
      "7.0 7.0 7.0 11.0 11.0 14.0 29.0 7.0 11.0 25.0 7.0 22.0 7.0 14.0 14.0 18.0 7.0 25.0 7.0 14.0 14.0 25.0 3.0 25.0 18.0 29.0 14.0 14.0 7.0 11.0 14.0 11.0 11.0 2.0 10.0 35.0 5.0 10.0 12.0 0.0 20.0 5.0 5.0 5.0 47.0 2.0 7.0 12.0 7.0 10.0 5.0 15.0 20.0 17.0 7.0 27.0 7.0 17.0 0.0 25.0 5.0 20.0 2.0 7.0 12.0 22.0 "
     ]
    },
    {
     "name": "stderr",
     "output_type": "stream",
     "text": [
      "\r",
      "48it [00:03, 13.99it/s]"
     ]
    },
    {
     "name": "stdout",
     "output_type": "stream",
     "text": [
      "13.0 20.0 11.0 15.0 24.0 16.0 13.0 12.0 18.0 20.0 17.0 20.0 11.0 18.0 8.0 10.0 17.0 17.0 5.0 7.0 6.0 19.0 9.0 17.0 9.0 19.0 12.0 11.0 11.0 21.0 20.0 10.0 9.0 9.0 19.0 0.0 14.0 28.0 14.0 23.0 14.0 9.0 28.0 9.0 14.0 9.0 23.0 23.0 4.0 23.0 23.0 19.0 4.0 14.0 14.0 0.0 19.0 19.0 14.0 4.0 14.0 4.0 4.0 14.0 19.0 14.0 "
     ]
    },
    {
     "name": "stderr",
     "output_type": "stream",
     "text": [
      "\r",
      "50it [00:03, 14.94it/s]"
     ]
    },
    {
     "name": "stdout",
     "output_type": "stream",
     "text": [
      "10.0 0.0 0.0 5.0 15.0 20.0 20.0 25.0 10.0 15.0 5.0 30.0 10.0 10.0 20.0 20.0 5.0 25.0 10.0 0.0 15.0 20.0 10.0 20.0 20.0 20.0 15.0 5.0 10.0 20.0 15.0 20.0 15.0 17.0 5.0 0.0 5.0 17.0 17.0 0.0 5.0 11.0 11.0 11.0 5.0 11.0 11.0 47.0 5.0 5.0 29.0 5.0 5.0 5.0 35.0 5.0 0.0 11.0 5.0 11.0 0.0 11.0 5.0 29.0 17.0 5.0 "
     ]
    },
    {
     "name": "stderr",
     "output_type": "stream",
     "text": [
      "\r",
      "52it [00:03, 15.78it/s]"
     ]
    },
    {
     "name": "stdout",
     "output_type": "stream",
     "text": [
      "0.0 14.0 7.0 7.0 14.0 28.0 14.0 7.0 14.0 14.0 7.0 14.0 0.0 14.0 57.0 14.0 7.0 28.0 21.0 21.0 21.0 28.0 14.0 14.0 14.0 0.0 7.0 7.0 21.0 21.0 14.0 14.0 14.0 11.0 11.0 11.0 11.0 5.0 11.0 11.0 5.0 11.0 23.0 11.0 11.0 5.0 11.0 64.0 11.0 0.0 17.0 0.0 5.0 11.0 17.0 17.0 17.0 17.0 5.0 11.0 5.0 0.0 5.0 11.0 0.0 5.0 "
     ]
    },
    {
     "name": "stderr",
     "output_type": "stream",
     "text": [
      "\r",
      "54it [00:03, 16.40it/s]"
     ]
    },
    {
     "name": "stdout",
     "output_type": "stream",
     "text": [
      "0.0 15.0 15.0 7.0 7.0 30.0 7.0 15.0 0.0 0.0 0.0 30.0 0.0 7.0 46.0 0.0 0.0 38.0 15.0 7.0 7.0 15.0 7.0 7.0 30.0 0.0 15.0 0.0 7.0 15.0 15.0 15.0 23.0 12.0 0.0 25.0 20.0 12.0 16.0 12.0 16.0 4.0 12.0 16.0 20.0 12.0 8.0 16.0 16.0 4.0 4.0 4.0 29.0 33.0 16.0 20.0 8.0 4.0 29.0 25.0 12.0 16.0 12.0 12.0 8.0 12.0 "
     ]
    },
    {
     "name": "stderr",
     "output_type": "stream",
     "text": [
      "\r",
      "56it [00:04, 14.67it/s]"
     ]
    },
    {
     "name": "stdout",
     "output_type": "stream",
     "text": [
      "13.0 13.0 27.0 20.0 17.0 10.0 20.0 6.0 10.0 3.0 24.0 13.0 10.0 13.0 3.0 20.0 17.0 3.0 17.0 34.0 31.0 10.0 31.0 20.0 10.0 10.0 27.0 13.0 13.0 6.0 20.0 13.0 17.0 30.0 10.0 15.0 5.0 5.0 15.0 35.0 10.0 10.0 10.0 25.0 20.0 15.0 15.0 20.0 10.0 5.0 25.0 0.0 15.0 15.0 15.0 15.0 30.0 10.0 15.0 0.0 20.0 0.0 10.0 25.0 10.0 10.0 "
     ]
    },
    {
     "name": "stderr",
     "output_type": "stream",
     "text": [
      "\r",
      "58it [00:04, 15.65it/s]"
     ]
    },
    {
     "name": "stdout",
     "output_type": "stream",
     "text": [
      "7.0 15.0 7.0 23.0 23.0 7.0 38.0 0.0 15.0 38.0 15.0 0.0 7.0 15.0 38.0 0.0 23.0 30.0 7.0 15.0 0.0 23.0 0.0 7.0 7.0 30.0 7.0 7.0 7.0 7.0 23.0 7.0 0.0 10.0 15.0 0.0 25.0 20.0 20.0 30.0 5.0 15.0 20.0 10.0 10.0 0.0 5.0 35.0 10.0 20.0 40.0 10.0 0.0 10.0 20.0 10.0 15.0 20.0 20.0 10.0 15.0 10.0 20.0 20.0 15.0 5.0 "
     ]
    },
    {
     "name": "stderr",
     "output_type": "stream",
     "text": [
      "\r",
      "60it [00:04, 15.86it/s]"
     ]
    },
    {
     "name": "stdout",
     "output_type": "stream",
     "text": [
      "21.0 0.0 0.0 7.0 0.0 21.0 7.0 14.0 0.0 14.0 0.0 28.0 0.0 0.0 64.0 7.0 14.0 35.0 7.0 0.0 21.0 28.0 14.0 28.0 28.0 14.0 0.0 14.0 7.0 14.0 7.0 7.0 14.0 4.0 19.0 0.0 28.0 23.0 19.0 28.0 4.0 4.0 23.0 14.0 19.0 19.0 9.0 28.0 4.0 42.0 14.0 4.0 9.0 4.0 14.0 19.0 14.0 4.0 28.0 4.0 9.0 0.0 23.0 19.0 0.0 0.0 "
     ]
    },
    {
     "name": "stderr",
     "output_type": "stream",
     "text": [
      "\r",
      "62it [00:04, 14.43it/s]"
     ]
    },
    {
     "name": "stdout",
     "output_type": "stream",
     "text": [
      "13.0 27.0 4.0 13.0 22.0 18.0 18.0 9.0 22.0 27.0 4.0 9.0 9.0 13.0 31.0 0.0 13.0 27.0 4.0 9.0 9.0 18.0 0.0 13.0 13.0 18.0 4.0 4.0 0.0 9.0 27.0 4.0 0.0 15.0 30.0 0.0 23.0 30.0 0.0 30.0 0.0 7.0 30.0 15.0 15.0 7.0 0.0 23.0 7.0 23.0 15.0 0.0 15.0 0.0 30.0 15.0 23.0 7.0 38.0 7.0 7.0 0.0 7.0 7.0 7.0 0.0 "
     ]
    },
    {
     "name": "stderr",
     "output_type": "stream",
     "text": [
      "\r",
      "64it [00:04, 15.62it/s]"
     ]
    },
    {
     "name": "stdout",
     "output_type": "stream",
     "text": [
      "0.0 9.0 0.0 9.0 18.0 9.0 9.0 18.0 9.0 18.0 0.0 18.0 0.0 0.0 54.0 9.0 0.0 27.0 9.0 18.0 18.0 36.0 18.0 18.0 36.0 18.0 0.0 18.0 9.0 9.0 27.0 9.0 18.0 22.0 12.0 6.0 10.0 24.0 12.0 20.0 6.0 8.0 20.0 14.0 18.0 16.0 4.0 30.0 18.0 10.0 18.0 12.0 4.0 8.0 18.0 8.0 12.0 22.0 18.0 22.0 14.0 12.0 16.0 22.0 12.0 8.0 "
     ]
    },
    {
     "name": "stderr",
     "output_type": "stream",
     "text": [
      "\r",
      "66it [00:04, 16.40it/s]"
     ]
    },
    {
     "name": "stdout",
     "output_type": "stream",
     "text": [
      "5.0 12.0 32.0 7.0 25.0 12.0 5.0 10.0 12.0 5.0 17.0 20.0 12.0 7.0 17.0 17.0 7.0 10.0 12.0 35.0 45.0 20.0 32.0 17.0 12.0 15.0 40.0 12.0 22.0 12.0 17.0 15.0 35.0 0.0 2.0 47.0 5.0 13.0 5.0 10.0 5.0 0.0 5.0 13.0 18.0 2.0 5.0 2.0 10.0 2.0 0.0 7.0 47.0 44.0 5.0 36.0 15.0 13.0 5.0 42.0 5.0 23.0 0.0 5.0 13.0 34.0 "
     ]
    },
    {
     "name": "stderr",
     "output_type": "stream",
     "text": [
      "\r",
      "68it [00:04, 16.48it/s]"
     ]
    },
    {
     "name": "stdout",
     "output_type": "stream",
     "text": [
      "13.0 50.0 4.0 18.0 31.0 27.0 9.0 4.0 13.0 13.0 18.0 13.0 9.0 9.0 0.0 13.0 22.0 18.0 13.0 9.0 4.0 9.0 4.0 31.0 9.0 13.0 4.0 9.0 4.0 18.0 9.0 9.0 13.0 11.0 66.0 0.0 33.0 33.0 44.0 33.0 0.0 22.0 22.0 0.0 11.0 11.0 11.0 11.0 0.0 33.0 11.0 0.0 11.0 0.0 11.0 0.0 22.0 11.0 22.0 11.0 0.0 0.0 0.0 22.0 0.0 0.0 "
     ]
    },
    {
     "name": "stderr",
     "output_type": "stream",
     "text": [
      "\r",
      "70it [00:04, 14.99it/s]"
     ]
    },
    {
     "name": "stdout",
     "output_type": "stream",
     "text": [
      "13.0 15.0 31.0 2.0 13.0 15.0 5.0 10.0 7.0 2.0 7.0 21.0 10.0 15.0 2.0 5.0 10.0 7.0 10.0 26.0 26.0 10.0 36.0 5.0 10.0 7.0 52.0 18.0 23.0 10.0 13.0 10.0 13.0 7.0 3.0 45.0 4.0 6.0 4.0 9.0 8.0 2.0 7.0 10.0 9.0 10.0 13.0 9.0 10.0 4.0 4.0 18.0 38.0 31.0 10.0 19.0 10.0 7.0 12.0 25.0 12.0 25.0 6.0 8.0 16.0 30.0 "
     ]
    },
    {
     "name": "stderr",
     "output_type": "stream",
     "text": [
      "\r",
      "72it [00:05, 14.87it/s]"
     ]
    },
    {
     "name": "stdout",
     "output_type": "stream",
     "text": [
      "7.0 4.0 45.0 4.0 6.0 4.0 8.0 6.0 2.0 6.0 8.0 7.0 8.0 10.0 8.0 8.0 7.0 3.0 19.0 39.0 35.0 10.0 19.0 8.0 7.0 6.0 23.0 12.0 28.0 4.0 7.0 17.0 29.0 21.0 14.0 7.0 0.0 28.0 14.0 28.0 28.0 0.0 14.0 14.0 28.0 28.0 21.0 21.0 35.0 0.0 14.0 14.0 14.0 14.0 21.0 21.0 28.0 21.0 14.0 0.0 21.0 0.0 14.0 21.0 14.0 21.0 "
     ]
    },
    {
     "name": "stderr",
     "output_type": "stream",
     "text": [
      "\r",
      "74it [00:05, 15.43it/s]"
     ]
    },
    {
     "name": "stdout",
     "output_type": "stream",
     "text": [
      "5.0 14.0 5.0 7.0 18.0 9.0 6.0 50.0 10.0 13.0 4.0 31.0 11.0 10.0 15.0 11.0 4.0 14.0 9.0 8.0 6.0 9.0 16.0 10.0 12.0 16.0 6.0 12.0 12.0 7.0 18.0 12.0 9.0 5.0 30.0 5.0 30.0 40.0 15.0 15.0 15.0 15.0 20.0 0.0 20.0 15.0 10.0 15.0 15.0 20.0 10.0 10.0 5.0 0.0 15.0 25.0 25.0 10.0 10.0 5.0 10.0 0.0 10.0 30.0 15.0 0.0 "
     ]
    },
    {
     "name": "stderr",
     "output_type": "stream",
     "text": [
      "\r",
      "76it [00:05, 15.46it/s]"
     ]
    },
    {
     "name": "stdout",
     "output_type": "stream",
     "text": [
      "9.0 5.0 29.0 5.0 9.0 7.0 7.0 9.0 10.0 9.0 10.0 5.0 10.0 9.0 9.0 16.0 14.0 9.0 16.0 27.0 21.0 12.0 60.0 10.0 21.0 9.0 23.0 12.0 18.0 10.0 3.0 14.0 20.0 11.0 30.0 0.0 19.0 19.0 19.0 35.0 11.0 7.0 28.0 7.0 26.0 14.0 26.0 7.0 9.0 14.0 16.0 4.0 4.0 0.0 21.0 2.0 11.0 2.0 26.0 14.0 14.0 2.0 11.0 19.0 4.0 4.0 "
     ]
    },
    {
     "name": "stderr",
     "output_type": "stream",
     "text": [
      "\r",
      "78it [00:05, 14.08it/s]"
     ]
    },
    {
     "name": "stdout",
     "output_type": "stream",
     "text": [
      "9.0 10.0 9.0 12.0 14.0 7.0 10.0 28.0 10.0 12.0 21.0 45.0 21.0 17.0 14.0 14.0 18.0 7.0 7.0 10.0 7.0 21.0 14.0 15.0 14.0 15.0 10.0 17.0 10.0 17.0 14.0 15.0 12.0 9.0 13.0 0.0 5.0 28.0 11.0 7.0 47.0 13.0 15.0 3.0 33.0 9.0 15.0 13.0 11.0 13.0 13.0 7.0 9.0 3.0 13.0 13.0 13.0 13.0 20.0 11.0 9.0 11.0 13.0 13.0 9.0 13.0 "
     ]
    },
    {
     "name": "stderr",
     "output_type": "stream",
     "text": [
      "\r",
      "80it [00:05, 15.30it/s]"
     ]
    },
    {
     "name": "stdout",
     "output_type": "stream",
     "text": [
      "0.0 66.0 0.0 33.0 50.0 0.0 50.0 0.0 0.0 50.0 16.0 16.0 33.0 33.0 0.0 33.0 33.0 0.0 0.0 0.0 0.0 16.0 0.0 16.0 0.0 33.0 16.0 0.0 0.0 16.0 0.0 0.0 0.0 13.0 18.0 13.0 18.0 22.0 4.0 31.0 22.0 4.0 22.0 27.0 22.0 22.0 31.0 9.0 27.0 22.0 13.0 18.0 9.0 13.0 13.0 9.0 22.0 18.0 27.0 13.0 31.0 4.0 18.0 13.0 13.0 9.0 "
     ]
    },
    {
     "name": "stderr",
     "output_type": "stream",
     "text": [
      "\r",
      "82it [00:05, 16.40it/s]"
     ]
    },
    {
     "name": "stdout",
     "output_type": "stream",
     "text": [
      "25.0 15.0 9.0 9.0 11.0 6.0 22.0 6.0 9.0 31.0 15.0 25.0 20.0 18.0 6.0 25.0 22.0 13.0 6.0 6.0 6.0 22.0 11.0 6.0 11.0 18.0 11.0 22.0 2.0 15.0 11.0 13.0 13.0 14.0 9.0 4.0 4.0 19.0 9.0 19.0 19.0 14.0 4.0 4.0 19.0 9.0 0.0 9.0 23.0 9.0 19.0 9.0 9.0 4.0 4.0 23.0 28.0 14.0 14.0 4.0 14.0 14.0 9.0 9.0 23.0 14.0 "
     ]
    },
    {
     "name": "stderr",
     "output_type": "stream",
     "text": [
      "\r",
      "84it [00:05, 16.89it/s]"
     ]
    },
    {
     "name": "stdout",
     "output_type": "stream",
     "text": [
      "11.0 5.0 14.0 2.0 10.0 11.0 12.0 11.0 11.0 12.0 20.0 7.0 11.0 17.0 14.0 12.0 8.0 15.0 11.0 2.0 14.0 10.0 10.0 11.0 7.0 12.0 1.0 4.0 11.0 18.0 12.0 20.0 8.0 7.0 7.0 0.0 15.0 7.0 23.0 38.0 0.0 7.0 7.0 23.0 7.0 0.0 7.0 7.0 23.0 7.0 23.0 7.0 38.0 7.0 7.0 38.0 23.0 15.0 7.0 0.0 30.0 7.0 7.0 30.0 15.0 7.0 "
     ]
    },
    {
     "name": "stderr",
     "output_type": "stream",
     "text": [
      "\r",
      "86it [00:05, 14.17it/s]"
     ]
    },
    {
     "name": "stdout",
     "output_type": "stream",
     "text": [
      "5.0 15.0 15.0 0.0 5.0 26.0 5.0 10.0 10.0 21.0 15.0 21.0 21.0 15.0 15.0 15.0 21.0 21.0 0.0 5.0 10.0 57.0 10.0 21.0 15.0 26.0 15.0 10.0 5.0 15.0 36.0 10.0 10.0 0.0 18.0 0.0 27.0 13.0 31.0 27.0 9.0 4.0 45.0 9.0 18.0 18.0 13.0 9.0 22.0 22.0 27.0 4.0 0.0 9.0 22.0 0.0 9.0 9.0 36.0 0.0 13.0 0.0 36.0 27.0 18.0 9.0 "
     ]
    },
    {
     "name": "stderr",
     "output_type": "stream",
     "text": [
      "\r",
      "88it [00:06, 15.17it/s]"
     ]
    },
    {
     "name": "stdout",
     "output_type": "stream",
     "text": [
      "6.0 12.0 15.0 12.0 9.0 15.0 21.0 9.0 6.0 25.0 18.0 18.0 15.0 15.0 6.0 25.0 15.0 21.0 21.0 18.0 3.0 18.0 9.0 15.0 15.0 25.0 9.0 40.0 6.0 15.0 28.0 25.0 15.0 8.0 16.0 12.0 20.0 20.0 29.0 16.0 4.0 16.0 29.0 33.0 8.0 25.0 25.0 4.0 12.0 8.0 20.0 16.0 12.0 4.0 16.0 8.0 20.0 4.0 8.0 4.0 8.0 4.0 12.0 25.0 8.0 4.0 "
     ]
    },
    {
     "name": "stderr",
     "output_type": "stream",
     "text": [
      "\r",
      "90it [00:06, 16.27it/s]"
     ]
    },
    {
     "name": "stdout",
     "output_type": "stream",
     "text": [
      "21.0 42.0 0.0 31.0 26.0 21.0 21.0 5.0 10.0 47.0 10.0 26.0 15.0 21.0 15.0 26.0 21.0 21.0 15.0 10.0 0.0 26.0 15.0 26.0 15.0 21.0 0.0 21.0 0.0 10.0 31.0 21.0 15.0 13.0 9.0 9.0 22.0 4.0 18.0 18.0 4.0 0.0 27.0 0.0 22.0 4.0 13.0 4.0 22.0 13.0 22.0 13.0 13.0 4.0 27.0 13.0 31.0 18.0 18.0 13.0 22.0 9.0 9.0 9.0 18.0 18.0 "
     ]
    },
    {
     "name": "stderr",
     "output_type": "stream",
     "text": [
      "\r",
      "92it [00:06, 15.25it/s]"
     ]
    },
    {
     "name": "stdout",
     "output_type": "stream",
     "text": [
      "15.0 26.0 0.0 15.0 26.0 10.0 10.0 5.0 26.0 21.0 15.0 5.0 15.0 0.0 10.0 31.0 26.0 15.0 10.0 5.0 0.0 5.0 5.0 15.0 0.0 10.0 15.0 10.0 0.0 15.0 15.0 0.0 0.0 3.0 14.0 7.0 29.0 11.0 14.0 25.0 7.0 14.0 40.0 14.0 22.0 29.0 25.0 11.0 11.0 18.0 18.0 7.0 3.0 7.0 14.0 3.0 29.0 7.0 25.0 0.0 33.0 3.0 7.0 29.0 11.0 14.0 "
     ]
    },
    {
     "name": "stderr",
     "output_type": "stream",
     "text": [
      "\r",
      "94it [00:06, 16.11it/s]"
     ]
    },
    {
     "name": "stdout",
     "output_type": "stream",
     "text": [
      "20.0 20.0 20.0 0.0 40.0 20.0 0.0 20.0 0.0 0.0 0.0 60.0 0.0 0.0 20.0 20.0 0.0 0.0 20.0 0.0 0.0 0.0 40.0 20.0 0.0 0.0 0.0 0.0 20.0 0.0 40.0 20.0 20.0 20.0 40.0 0.0 40.0 40.0 0.0 40.0 20.0 0.0 40.0 0.0 20.0 0.0 20.0 0.0 20.0 60.0 20.0 0.0 0.0 0.0 20.0 20.0 0.0 0.0 40.0 20.0 0.0 0.0 20.0 20.0 0.0 0.0 "
     ]
    },
    {
     "name": "stderr",
     "output_type": "stream",
     "text": [
      "\r",
      "96it [00:06, 16.91it/s]"
     ]
    },
    {
     "name": "stdout",
     "output_type": "stream",
     "text": [
      "8.0 13.0 0.0 8.0 4.0 26.0 21.0 4.0 4.0 17.0 13.0 21.0 17.0 8.0 8.0 13.0 17.0 34.0 8.0 8.0 4.0 13.0 0.0 13.0 8.0 13.0 8.0 13.0 0.0 52.0 34.0 8.0 13.0 0.0 16.0 5.0 38.0 22.0 11.0 38.0 5.0 11.0 22.0 22.0 22.0 11.0 11.0 5.0 44.0 44.0 11.0 22.0 11.0 11.0 16.0 0.0 27.0 22.0 16.0 5.0 22.0 0.0 22.0 22.0 16.0 11.0 "
     ]
    },
    {
     "name": "stderr",
     "output_type": "stream",
     "text": [
      "\r",
      "98it [00:06, 17.30it/s]"
     ]
    },
    {
     "name": "stdout",
     "output_type": "stream",
     "text": [
      "7.0 15.0 5.0 47.0 26.0 15.0 31.0 7.0 13.0 34.0 13.0 21.0 23.0 15.0 13.0 26.0 44.0 21.0 5.0 10.0 5.0 26.0 2.0 15.0 7.0 31.0 21.0 15.0 2.0 31.0 18.0 7.0 7.0 10.0 17.0 0.0 15.0 23.0 35.0 12.0 5.0 15.0 28.0 15.0 17.0 17.0 15.0 20.0 17.0 15.0 41.0 12.0 2.0 0.0 23.0 2.0 17.0 7.0 15.0 10.0 17.0 0.0 20.0 56.0 7.0 7.0 "
     ]
    },
    {
     "name": "stderr",
     "output_type": "stream",
     "text": [
      "\r",
      "100it [00:06, 15.41it/s]"
     ]
    },
    {
     "name": "stdout",
     "output_type": "stream",
     "text": [
      "0.0 80.0 0.0 60.0 60.0 0.0 40.0 0.0 0.0 40.0 0.0 20.0 20.0 0.0 0.0 20.0 80.0 0.0 0.0 0.0 0.0 40.0 0.0 20.0 0.0 60.0 20.0 0.0 0.0 40.0 0.0 0.0 0.0 25.0 6.0 0.0 18.0 18.0 12.0 18.0 18.0 0.0 25.0 37.0 37.0 37.0 18.0 12.0 25.0 25.0 25.0 6.0 18.0 6.0 12.0 25.0 25.0 18.0 25.0 0.0 25.0 12.0 12.0 18.0 6.0 6.0 12.0 50.0 0.0 50.0 37.0 0.0 25.0 0.0 0.0 37.0 0.0 12.0 25.0 0.0 0.0 25.0 75.0 0.0 0.0 0.0 0.0 25.0 0.0 12.0 0.0 37.0 12.0 0.0 0.0 25.0 0.0 0.0 0.0 "
     ]
    },
    {
     "name": "stderr",
     "output_type": "stream",
     "text": [
      "\r",
      "103it [00:06, 16.62it/s]"
     ]
    },
    {
     "name": "stdout",
     "output_type": "stream",
     "text": [
      "0.0 20.0 0.0 53.0 40.0 6.0 26.0 6.0 6.0 40.0 13.0 6.0 26.0 6.0 13.0 20.0 26.0 6.0 6.0 0.0 6.0 6.0 13.0 33.0 0.0 20.0 6.0 6.0 0.0 0.0 13.0 0.0 0.0 9.0 63.0 4.0 40.0 22.0 22.0 18.0 4.0 9.0 18.0 13.0 13.0 18.0 9.0 9.0 4.0 22.0 13.0 0.0 4.0 0.0 9.0 4.0 22.0 4.0 27.0 4.0 9.0 0.0 4.0 9.0 4.0 4.0 "
     ]
    },
    {
     "name": "stderr",
     "output_type": "stream",
     "text": [
      "\r",
      "105it [00:07, 17.10it/s]"
     ]
    },
    {
     "name": "stdout",
     "output_type": "stream",
     "text": [
      "14.0 26.0 0.0 20.0 50.0 17.0 17.0 20.0 2.0 11.0 11.0 29.0 5.0 11.0 11.0 8.0 23.0 17.0 2.0 8.0 0.0 23.0 17.0 5.0 11.0 20.0 17.0 5.0 8.0 17.0 17.0 11.0 8.0 7.0 29.0 3.0 48.0 37.0 25.0 11.0 7.0 14.0 29.0 22.0 22.0 18.0 11.0 7.0 18.0 25.0 14.0 3.0 0.0 3.0 22.0 0.0 22.0 3.0 22.0 14.0 14.0 3.0 18.0 33.0 7.0 0.0 "
     ]
    },
    {
     "name": "stderr",
     "output_type": "stream",
     "text": [
      "\r",
      "107it [00:07, 14.72it/s]"
     ]
    },
    {
     "name": "stdout",
     "output_type": "stream",
     "text": [
      "9.0 31.0 4.0 54.0 22.0 13.0 18.0 9.0 13.0 45.0 4.0 18.0 22.0 9.0 13.0 4.0 22.0 22.0 0.0 9.0 0.0 22.0 0.0 27.0 0.0 22.0 9.0 13.0 0.0 4.0 22.0 4.0 4.0 0.0 38.0 0.0 46.0 38.0 23.0 23.0 7.0 7.0 30.0 0.0 23.0 7.0 7.0 7.0 15.0 46.0 7.0 15.0 0.0 0.0 23.0 0.0 38.0 7.0 15.0 7.0 7.0 0.0 0.0 23.0 15.0 0.0 "
     ]
    },
    {
     "name": "stderr",
     "output_type": "stream",
     "text": [
      "\r",
      "109it [00:07, 15.71it/s]"
     ]
    },
    {
     "name": "stdout",
     "output_type": "stream",
     "text": [
      "7.0 17.0 2.0 60.0 25.0 22.0 30.0 7.0 17.0 35.0 20.0 20.0 22.0 17.0 17.0 27.0 25.0 20.0 5.0 10.0 10.0 20.0 5.0 22.0 5.0 25.0 15.0 22.0 2.0 22.0 25.0 7.0 2.0 15.0 30.0 5.0 35.0 25.0 10.0 35.0 10.0 10.0 25.0 25.0 30.0 20.0 10.0 10.0 35.0 30.0 15.0 10.0 5.0 5.0 15.0 10.0 25.0 0.0 25.0 5.0 15.0 0.0 10.0 20.0 0.0 0.0 "
     ]
    },
    {
     "name": "stderr",
     "output_type": "stream",
     "text": [
      "\r",
      "111it [00:07, 16.59it/s]"
     ]
    },
    {
     "name": "stdout",
     "output_type": "stream",
     "text": [
      "25.0 25.0 0.0 31.0 25.0 6.0 25.0 12.0 18.0 18.0 18.0 18.0 25.0 0.0 6.0 25.0 31.0 6.0 6.0 6.0 0.0 6.0 6.0 18.0 0.0 12.0 0.0 12.0 0.0 12.0 18.0 6.0 0.0 6.0 12.0 14.0 8.0 16.0 4.0 10.0 6.0 10.0 12.0 8.0 8.0 8.0 4.0 12.0 20.0 18.0 14.0 12.0 20.0 10.0 12.0 44.0 10.0 20.0 12.0 12.0 16.0 16.0 12.0 10.0 20.0 14.0 "
     ]
    },
    {
     "name": "stderr",
     "output_type": "stream",
     "text": [
      "\r",
      "113it [00:07, 16.84it/s]"
     ]
    },
    {
     "name": "stdout",
     "output_type": "stream",
     "text": [
      "25.0 0.0 0.0 25.0 33.0 8.0 25.0 16.0 0.0 33.0 16.0 41.0 16.0 16.0 8.0 50.0 25.0 33.0 16.0 16.0 25.0 33.0 25.0 41.0 33.0 25.0 16.0 41.0 8.0 25.0 25.0 16.0 25.0 26.0 57.0 0.0 10.0 10.0 15.0 21.0 0.0 10.0 21.0 5.0 5.0 15.0 5.0 15.0 5.0 5.0 15.0 0.0 0.0 5.0 10.0 5.0 10.0 0.0 15.0 0.0 5.0 0.0 5.0 10.0 5.0 0.0 "
     ]
    },
    {
     "name": "stderr",
     "output_type": "stream",
     "text": [
      "\r",
      "115it [00:07, 15.18it/s]"
     ]
    },
    {
     "name": "stdout",
     "output_type": "stream",
     "text": [
      "18.0 62.0 0.0 18.0 12.0 12.0 18.0 0.0 12.0 31.0 6.0 12.0 18.0 12.0 12.0 6.0 6.0 6.0 0.0 0.0 6.0 6.0 0.0 18.0 0.0 25.0 6.0 12.0 0.0 0.0 6.0 6.0 0.0 9.0 31.0 9.0 9.0 18.0 18.0 22.0 4.0 9.0 22.0 13.0 9.0 18.0 13.0 9.0 9.0 13.0 13.0 9.0 4.0 4.0 13.0 4.0 22.0 13.0 18.0 4.0 22.0 0.0 4.0 13.0 13.0 13.0 "
     ]
    },
    {
     "name": "stderr",
     "output_type": "stream",
     "text": [
      "\r",
      "117it [00:07, 15.77it/s]"
     ]
    },
    {
     "name": "stdout",
     "output_type": "stream",
     "text": [
      "11.0 22.0 0.0 11.0 0.0 88.0 11.0 0.0 0.0 11.0 0.0 0.0 0.0 11.0 0.0 0.0 22.0 44.0 0.0 0.0 0.0 11.0 11.0 33.0 0.0 11.0 0.0 11.0 0.0 33.0 44.0 0.0 0.0 "
     ]
    },
    {
     "name": "stderr",
     "output_type": "stream",
     "text": [
      "118it [00:07, 14.88it/s]\n"
     ]
    }
   ],
   "source": [
    "overlapMatrix = np.zeros((len(predictedClusters), len(validatationData['class'].unique())))\n",
    "# Iterate through all classes and calculate their fischer pvalue coresponding to each cluster\n",
    "for i, trueClass in tqdm(enumerate(trueClusters)):\n",
    "    classGenes = genes[validatationData[validatationData['class'] == trueClass][genes].values.reshape(-1) == 1]\n",
    "    for j, predClass in enumerate(predictedClusters):\n",
    "        intersect =  np.intersect1d(classGenes, clusters[predClass])\n",
    "        overlapMatrix[j, i] = int(100 *len(intersect)/len(classGenes))\n",
    "        print(f'{overlapMatrix[j, i]} ', end ='')\n",
    "overlapMatrix = overlapMatrix.astype(int)\n",
    "overlapMatrix = pd.DataFrame(index= predictedClusters, data= overlapMatrix, columns=trueClusters)\n",
    "overlapMatrix.to_excel(outputExcelFileName)"
   ]
  },
  {
   "cell_type": "code",
   "execution_count": null,
   "metadata": {},
   "outputs": [],
   "source": []
  },
  {
   "cell_type": "code",
   "execution_count": null,
   "metadata": {},
   "outputs": [],
   "source": []
  },
  {
   "cell_type": "code",
   "execution_count": null,
   "metadata": {},
   "outputs": [],
   "source": []
  },
  {
   "cell_type": "code",
   "execution_count": null,
   "metadata": {},
   "outputs": [],
   "source": []
  },
  {
   "cell_type": "code",
   "execution_count": null,
   "metadata": {},
   "outputs": [],
   "source": []
  },
  {
   "cell_type": "code",
   "execution_count": null,
   "metadata": {},
   "outputs": [],
   "source": []
  },
  {
   "cell_type": "markdown",
   "metadata": {},
   "source": [
    "## Plot distribution of class signature values per cluster"
   ]
  },
  {
   "cell_type": "code",
   "execution_count": null,
   "metadata": {},
   "outputs": [],
   "source": [
    "cluster_scores = []\n",
    "for i in range(results.shape[0]):\n",
    "    sorted_vals = np.sort(results[i])\n",
    "    cluster_scores.append(sorted_vals[1]/sorted_vals[0])\n",
    "    \n",
    "    ## PLOT\n",
    "    plt.figure(figsize = (18, 4))\n",
    "    plt.title(f'-Log10(pval) for cluster {i}, Raport smallest+1 /smallest ={cluster_scores[-1]}, smallest pval : {sorted_vals[:2]}', \n",
    "              fontsize = 15)\n",
    "    plt.grid()\n",
    "    plt.bar(np.arange(len(results[i])), np.sort(-np.log10(results[i]))[::-1]);\n",
    "    plt.tight_layout()\n",
    "    \n",
    "cluster_scores = np.array(cluster_scores)"
   ]
  },
  {
   "cell_type": "code",
   "execution_count": null,
   "metadata": {},
   "outputs": [],
   "source": [
    "plt.figure(figsize = (18, 4))\n",
    "plt.title(f'Log Distribution of cluster scores (smallest+1pval/smallest_pval)', \n",
    "          fontsize = 15)\n",
    "plt.grid()\n",
    "plt.bar(np.arange(len(cluster_scores)), np.sort(cluster_scores), log = True);\n",
    "plt.tight_layout()\n",
    "\n"
   ]
  },
  {
   "cell_type": "code",
   "execution_count": null,
   "metadata": {},
   "outputs": [],
   "source": [
    "plt.figure(figsize = (18, 4))\n",
    "plt.title(f'Top 20 worst cluster scores', fontsize = 15)\n",
    "plt.grid()\n",
    "plt.bar(np.arange(len(cluster_scores))[:20], np.sort(cluster_scores)[:20]);\n",
    "plt.tight_layout()\n"
   ]
  },
  {
   "cell_type": "markdown",
   "metadata": {},
   "source": [
    "## We can combine global cluster scores into 2 metrics:\n",
    "- the mean of cluster scores\n",
    "- number of clustres with a report < 1.5"
   ]
  },
  {
   "cell_type": "code",
   "execution_count": null,
   "metadata": {},
   "outputs": [],
   "source": [
    "mean = np.mean(cluster_scores)\n",
    "mean"
   ]
  },
  {
   "cell_type": "code",
   "execution_count": null,
   "metadata": {},
   "outputs": [],
   "source": [
    "threshold = 1.5\n",
    "print(f\"There are {len(cluster_scores[cluster_scores <= 1.5])} clusters with report < {threshold}\" )"
   ]
  },
  {
   "cell_type": "code",
   "execution_count": null,
   "metadata": {},
   "outputs": [],
   "source": []
  },
  {
   "cell_type": "code",
   "execution_count": null,
   "metadata": {},
   "outputs": [],
   "source": []
  }
 ],
 "metadata": {
  "kernelspec": {
   "display_name": "Python 3",
   "language": "python",
   "name": "python3"
  },
  "language_info": {
   "codemirror_mode": {
    "name": "ipython",
    "version": 3
   },
   "file_extension": ".py",
   "mimetype": "text/x-python",
   "name": "python",
   "nbconvert_exporter": "python",
   "pygments_lexer": "ipython3",
   "version": "3.6.6"
  },
  "toc": {
   "base_numbering": 1,
   "nav_menu": {},
   "number_sections": true,
   "sideBar": true,
   "skip_h1_title": false,
   "title_cell": "Table of Contents",
   "title_sidebar": "Contents",
   "toc_cell": false,
   "toc_position": {},
   "toc_section_display": true,
   "toc_window_display": false
  },
  "varInspector": {
   "cols": {
    "lenName": 16,
    "lenType": 16,
    "lenVar": 40
   },
   "kernels_config": {
    "python": {
     "delete_cmd_postfix": "",
     "delete_cmd_prefix": "del ",
     "library": "var_list.py",
     "varRefreshCmd": "print(var_dic_list())"
    },
    "r": {
     "delete_cmd_postfix": ") ",
     "delete_cmd_prefix": "rm(",
     "library": "var_list.r",
     "varRefreshCmd": "cat(var_dic_list()) "
    }
   },
   "types_to_exclude": [
    "module",
    "function",
    "builtin_function_or_method",
    "instance",
    "_Feature"
   ],
   "window_display": false
  }
 },
 "nbformat": 4,
 "nbformat_minor": 2
}
