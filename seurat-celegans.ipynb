{
 "cells": [
  {
   "cell_type": "markdown",
   "metadata": {},
   "source": [
    "# Clustering 3k PBMCs following a Seurat Tutorial"
   ]
  },
  {
   "cell_type": "markdown",
   "metadata": {},
   "source": [
    "This started out (July 2017) with a demonstration that Scanpy would allow to reproduce most of Seurat's ([Satija *et al.*, 2015](https://doi.org/10.1038/nbt.3192)) clustering tutorial ([link](http://satijalab.org/seurat/pbmc3k_tutorial.html)), which we gratefully acknowledge. In the meanwhile, we have added and removed several pieces.\n",
    "\n",
    "The data consists in *3k PBMCs from a Healthy Donor* and is freely available from 10x Genomics ([here](http://cf.10xgenomics.com/samples/cell-exp/1.1.0/pbmc3k/pbmc3k_filtered_gene_bc_matrices.tar.gz) from this [webpage](https://support.10xgenomics.com/single-cell-gene-expression/datasets/1.1.0/pbmc3k))."
   ]
  },
  {
   "cell_type": "code",
   "execution_count": null,
   "metadata": {
    "ExecuteTime": {
     "end_time": "2019-02-03T13:04:10.735130Z",
     "start_time": "2019-02-03T13:03:36.053922Z"
    },
    "scrolled": false
   },
   "outputs": [],
   "source": [
    "import numpy as np\n",
    "import pandas as pd\n",
    "import scanpy.api as sc\n",
    "from scipy import sparse, io\n",
    "from collections import Counter\n",
    "\n",
    "sc.settings.verbosity = 3  # verbosity: errors (0), warnings (1), info (2), hints (3)\n",
    "sc.logging.print_versions()\n",
    "sc.settings.set_figure_params(dpi=80)"
   ]
  },
  {
   "cell_type": "markdown",
   "metadata": {},
   "source": [
    "## Create input adata"
   ]
  },
  {
   "cell_type": "code",
   "execution_count": null,
   "metadata": {
    "ExecuteTime": {
     "end_time": "2019-01-31T19:43:44.596579Z",
     "start_time": "2019-01-31T19:43:02.281707Z"
    }
   },
   "outputs": [],
   "source": [
    "df = pd.read_csv(\"data/NeuronalGeneCount.csv\", index_col=0)\n",
    "/print df.shape\n",
    "\n",
    "df = df.drop_duplicates(keep='first').T\n",
    "/print df.shape\n",
    "df.to_pickle('data/df.pkl')\n",
    "df.head()"
   ]
  },
  {
   "cell_type": "code",
   "execution_count": null,
   "metadata": {
    "ExecuteTime": {
     "end_time": "2019-02-03T15:21:45.566477Z",
     "start_time": "2019-02-03T15:21:43.888426Z"
    }
   },
   "outputs": [],
   "source": [
    "df = pd.read_pickle('data/df.pkl')"
   ]
  },
  {
   "cell_type": "code",
   "execution_count": null,
   "metadata": {},
   "outputs": [],
   "source": [
    "np.save('data/cells.npy', df.index.values)\n",
    "np.save('data/genes.npy', df.columns)"
   ]
  },
  {
   "cell_type": "code",
   "execution_count": null,
   "metadata": {},
   "outputs": [],
   "source": [
    "m = sparse.csr_matrix(df.as_matrix().T)\n",
    "\n",
    "io.mmwrite(\"data/matrix.mtx\", m)\n",
    "del m, df"
   ]
  },
  {
   "cell_type": "code",
   "execution_count": null,
   "metadata": {},
   "outputs": [],
   "source": []
  },
  {
   "cell_type": "markdown",
   "metadata": {},
   "source": [
    "## Start from here if adata is available"
   ]
  },
  {
   "cell_type": "code",
   "execution_count": null,
   "metadata": {
    "ExecuteTime": {
     "end_time": "2019-02-03T14:35:14.461475Z",
     "start_time": "2019-02-03T14:35:14.290071Z"
    }
   },
   "outputs": [],
   "source": [
    "%%time\n",
    "path = './data/'\n",
    "adata = sc.read(path + 'matrix.mtx', cache=True).T  # transpose the data\n",
    "adata.var_names = np.load('data/genes.npy')\n",
    "adata.obs_names = np.load('data/cells.npy')"
   ]
  },
  {
   "cell_type": "code",
   "execution_count": null,
   "metadata": {
    "ExecuteTime": {
     "end_time": "2019-02-03T14:35:14.773665Z",
     "start_time": "2019-02-03T14:35:14.769673Z"
    }
   },
   "outputs": [],
   "source": [
    "adata.var_names_make_unique()"
   ]
  },
  {
   "cell_type": "code",
   "execution_count": null,
   "metadata": {
    "ExecuteTime": {
     "end_time": "2019-02-03T15:10:17.047737Z",
     "start_time": "2019-02-03T15:10:17.039758Z"
    }
   },
   "outputs": [],
   "source": [
    "adata.shape"
   ]
  },
  {
   "cell_type": "markdown",
   "metadata": {},
   "source": [
    "## Preprocessing"
   ]
  },
  {
   "cell_type": "markdown",
   "metadata": {},
   "source": [
    "**Note:** In notebooks and jupyter lab, you can see the documentation for a python function by hitting ``SHIFT + TAB``. Hit it twice to expand the view."
   ]
  },
  {
   "cell_type": "markdown",
   "metadata": {},
   "source": [
    "Show those genes that yield the highest fraction of counts in each single cells, across all cells."
   ]
  },
  {
   "cell_type": "code",
   "execution_count": null,
   "metadata": {
    "ExecuteTime": {
     "end_time": "2019-02-03T14:35:18.103213Z",
     "start_time": "2019-02-03T14:35:17.617638Z"
    }
   },
   "outputs": [],
   "source": [
    "sc.pl.highest_expr_genes(adata, n_top=20)"
   ]
  },
  {
   "cell_type": "markdown",
   "metadata": {},
   "source": [
    "Basic filtering."
   ]
  },
  {
   "cell_type": "code",
   "execution_count": null,
   "metadata": {
    "ExecuteTime": {
     "end_time": "2019-02-03T14:35:18.478989Z",
     "start_time": "2019-02-03T14:35:18.339319Z"
    }
   },
   "outputs": [],
   "source": [
    "sc.pp.filter_cells(adata, min_genes=10)\n",
    "sc.pp.filter_genes(adata, min_cells=3)"
   ]
  },
  {
   "cell_type": "code",
   "execution_count": null,
   "metadata": {
    "ExecuteTime": {
     "end_time": "2019-02-03T14:35:19.006070Z",
     "start_time": "2019-02-03T14:35:18.999086Z"
    }
   },
   "outputs": [],
   "source": [
    "adata.shape"
   ]
  },
  {
   "cell_type": "markdown",
   "metadata": {},
   "source": [
    "Plot some information about mitochondrial genes, important for quality control. Note that you can also retrieve mitochondrial genes using `sc.queries.mitochondrial_genes_biomart('www.ensembl.org', 'mmusculus')`.\n",
    "\n",
    "Citing from \"Simple Single Cell\" workflows [(Lun, McCarthy & Marioni, 2017)](https://master.bioconductor.org/packages/release/workflows/html/simpleSingleCell.html#examining-gene-level-metrics):\n",
    "> High proportions are indicative of poor-quality cells (Islam et al. 2014; Ilicic et al. 2016), possibly because of loss of cytoplasmic RNA from perforated cells. The reasoning is that mitochondria are larger than individual transcript molecules and less likely to escape through tears in the cell membrane."
   ]
  },
  {
   "cell_type": "code",
   "execution_count": null,
   "metadata": {
    "ExecuteTime": {
     "end_time": "2019-02-03T14:35:22.934793Z",
     "start_time": "2019-02-03T14:35:22.916841Z"
    }
   },
   "outputs": [],
   "source": [
    "mito_genes = [name for name in adata.var_names if name.startswith('MT-')]\n",
    "# for each cell compute fraction of counts in mito genes vs. all genes\n",
    "# the `.A1` is only necessary as X is sparse to transform to a dense array after summing\n",
    "adata.obs['percent_mito'] = np.sum(\n",
    "    adata[:, mito_genes].X, axis=1).A1 / np.sum(adata.X, axis=1).A1\n",
    "# add the total counts per cell as observations-annotation to adata\n",
    "adata.obs['n_counts'] = adata.X.sum(axis=1).A1"
   ]
  },
  {
   "cell_type": "markdown",
   "metadata": {},
   "source": [
    "A violin plot of the computed quality measures."
   ]
  },
  {
   "cell_type": "code",
   "execution_count": null,
   "metadata": {
    "ExecuteTime": {
     "end_time": "2019-02-03T14:35:24.328054Z",
     "start_time": "2019-02-03T14:35:23.729580Z"
    }
   },
   "outputs": [],
   "source": [
    "sc.pl.violin(adata, ['n_genes', 'n_counts', 'percent_mito'],\n",
    "             jitter=0.4, multi_panel=True)"
   ]
  },
  {
   "cell_type": "markdown",
   "metadata": {},
   "source": [
    "Remove cells that have too many mitochondrial genes expressed or too many total counts."
   ]
  },
  {
   "cell_type": "code",
   "execution_count": null,
   "metadata": {
    "ExecuteTime": {
     "end_time": "2019-02-03T14:35:31.724205Z",
     "start_time": "2019-02-03T14:35:31.268087Z"
    }
   },
   "outputs": [],
   "source": [
    "sc.pl.scatter(adata, x='n_counts', y='percent_mito')\n",
    "sc.pl.scatter(adata, x='n_counts', y='n_genes')"
   ]
  },
  {
   "cell_type": "code",
   "execution_count": null,
   "metadata": {
    "ExecuteTime": {
     "end_time": "2019-02-03T14:33:08.695634Z",
     "start_time": "2019-02-03T14:33:08.688654Z"
    }
   },
   "outputs": [],
   "source": [
    "adata.shape"
   ]
  },
  {
   "cell_type": "markdown",
   "metadata": {},
   "source": [
    "Actually do the filtering."
   ]
  },
  {
   "cell_type": "code",
   "execution_count": null,
   "metadata": {
    "ExecuteTime": {
     "end_time": "2019-02-03T14:37:44.054305Z",
     "start_time": "2019-02-03T14:37:43.998450Z"
    }
   },
   "outputs": [],
   "source": [
    "adata = adata[adata.obs['n_genes'] < 1250, :]\n",
    "adata = adata[adata.obs['percent_mito'] < 0.05, :]"
   ]
  },
  {
   "cell_type": "markdown",
   "metadata": {},
   "source": [
    "Set the `.raw` attribute of AnnData object to the logarithmized raw gene expression for later use in differential testing and visualizations of gene expression. This simply freezes the state of the AnnData object returned by `sc.pp.log1p`."
   ]
  },
  {
   "cell_type": "code",
   "execution_count": null,
   "metadata": {
    "ExecuteTime": {
     "end_time": "2019-02-03T14:37:50.197649Z",
     "start_time": "2019-02-03T14:37:50.159739Z"
    }
   },
   "outputs": [],
   "source": [
    "adata.raw = sc.pp.log1p(adata, copy=True)"
   ]
  },
  {
   "cell_type": "markdown",
   "metadata": {},
   "source": [
    "Per-cell normalize the data matrix $\\mathbf{X}$. Many people would consider the normalized data matrix as the \"relevant data\" for visualization and differential testing (assessing feature importance). Until a common viewpoint is reached on this, the decision of what to consider \"raw\", is up to the user. We tend to recommend to use the normalized data for visualization and differential testing even though here, we use the non-normalized data for the sake of consistency with the Seurat tutorial."
   ]
  },
  {
   "cell_type": "code",
   "execution_count": null,
   "metadata": {
    "ExecuteTime": {
     "end_time": "2019-02-03T14:37:51.841452Z",
     "start_time": "2019-02-03T14:37:51.767378Z"
    }
   },
   "outputs": [],
   "source": [
    "sc.pp.normalize_per_cell(adata, counts_per_cell_after=1e4)"
   ]
  },
  {
   "cell_type": "markdown",
   "metadata": {},
   "source": [
    "Identify highly-variable genes."
   ]
  },
  {
   "cell_type": "code",
   "execution_count": null,
   "metadata": {
    "ExecuteTime": {
     "end_time": "2019-02-03T14:44:24.348761Z",
     "start_time": "2019-02-03T14:44:23.800147Z"
    }
   },
   "outputs": [],
   "source": [
    "filter_result = sc.pp.filter_genes_dispersion(\n",
    "    adata.X, min_mean=0.005, max_mean=6, min_disp=0.1)\n",
    "sc.pl.filter_genes_dispersion(filter_result)"
   ]
  },
  {
   "cell_type": "markdown",
   "metadata": {},
   "source": [
    "Actually do the filtering."
   ]
  },
  {
   "cell_type": "code",
   "execution_count": null,
   "metadata": {
    "ExecuteTime": {
     "end_time": "2019-02-03T14:45:05.926471Z",
     "start_time": "2019-02-03T14:45:05.871621Z"
    }
   },
   "outputs": [],
   "source": [
    "adata = adata[:, filter_result.gene_subset]\n",
    "adata.shape"
   ]
  },
  {
   "cell_type": "markdown",
   "metadata": {},
   "source": [
    "Logarithmize the data."
   ]
  },
  {
   "cell_type": "code",
   "execution_count": null,
   "metadata": {
    "ExecuteTime": {
     "end_time": "2019-02-03T14:45:16.047468Z",
     "start_time": "2019-02-03T14:45:16.041484Z"
    }
   },
   "outputs": [],
   "source": [
    "sc.pp.log1p(adata)"
   ]
  },
  {
   "cell_type": "markdown",
   "metadata": {},
   "source": [
    "Regress out effects of total counts per cell and the percentage of mitochondrial genes expressed. Scale the data to unit variance."
   ]
  },
  {
   "cell_type": "code",
   "execution_count": null,
   "metadata": {
    "ExecuteTime": {
     "end_time": "2019-02-03T14:45:56.918177Z",
     "start_time": "2019-02-03T14:45:17.831497Z"
    }
   },
   "outputs": [],
   "source": [
    "sc.pp.regress_out(adata, ['n_counts', 'percent_mito'])"
   ]
  },
  {
   "cell_type": "markdown",
   "metadata": {},
   "source": [
    "Scale each gene to unit variance. Clip values exceeding standard deviation 10. "
   ]
  },
  {
   "cell_type": "code",
   "execution_count": null,
   "metadata": {
    "ExecuteTime": {
     "end_time": "2019-02-03T14:45:57.457267Z",
     "start_time": "2019-02-03T14:45:56.974028Z"
    }
   },
   "outputs": [],
   "source": [
    "sc.pp.scale(adata, max_value=10)"
   ]
  },
  {
   "cell_type": "markdown",
   "metadata": {},
   "source": [
    "Save the result."
   ]
  },
  {
   "cell_type": "markdown",
   "metadata": {},
   "source": [
    "## PCA"
   ]
  },
  {
   "cell_type": "markdown",
   "metadata": {},
   "source": [
    "Compute PCA and make a scatter plot."
   ]
  },
  {
   "cell_type": "code",
   "execution_count": null,
   "metadata": {
    "ExecuteTime": {
     "end_time": "2019-02-03T14:46:17.298181Z",
     "start_time": "2019-02-03T14:46:12.849961Z"
    }
   },
   "outputs": [],
   "source": [
    "sc.tl.pca(adata, svd_solver='arpack')"
   ]
  },
  {
   "cell_type": "code",
   "execution_count": null,
   "metadata": {
    "ExecuteTime": {
     "end_time": "2019-02-03T14:46:17.510573Z",
     "start_time": "2019-02-03T14:46:17.355991Z"
    }
   },
   "outputs": [],
   "source": [
    "sc.pl.pca(adata)"
   ]
  },
  {
   "cell_type": "markdown",
   "metadata": {},
   "source": [
    "Let us inspect the contribution of single PCs to the total variance in the data. This gives us information about how many PCs we should consider in order to compute the neighborhood relations of cells, e.g. used in the clustering function  `sc.tl.louvain()` or tSNE `sc.tl.tsne()`. In our experience, often, a rough estimate of the number of PCs does fine. Seurat provides many more functions, here."
   ]
  },
  {
   "cell_type": "code",
   "execution_count": null,
   "metadata": {
    "ExecuteTime": {
     "end_time": "2019-02-03T14:46:17.850750Z",
     "start_time": "2019-02-03T14:46:17.661706Z"
    }
   },
   "outputs": [],
   "source": [
    "sc.pl.pca_variance_ratio(adata, log=True)"
   ]
  },
  {
   "cell_type": "markdown",
   "metadata": {},
   "source": [
    "## Computing the neighborhood graph"
   ]
  },
  {
   "cell_type": "markdown",
   "metadata": {},
   "source": [
    "Let us compute the neighborhood graph of cells using the PCA representation of the data matrix. You might simply use default values here. For the sake of reproducing Seurat's results, let's take the following values."
   ]
  },
  {
   "cell_type": "code",
   "execution_count": null,
   "metadata": {
    "ExecuteTime": {
     "end_time": "2019-02-03T14:46:32.550416Z",
     "start_time": "2019-02-03T14:46:25.568612Z"
    }
   },
   "outputs": [],
   "source": [
    "sc.pp.neighbors(adata, n_neighbors=10, n_pcs=40)"
   ]
  },
  {
   "cell_type": "markdown",
   "metadata": {},
   "source": [
    "We now advertise visualizing the data using UMAP, see below. In particular, if you have large data, this will give you a notable speedup. Also, it is potentially more faithful to global topology: trajectories are better preserved."
   ]
  },
  {
   "cell_type": "code",
   "execution_count": null,
   "metadata": {
    "ExecuteTime": {
     "end_time": "2019-02-03T14:46:46.738296Z",
     "start_time": "2019-02-03T14:46:32.615753Z"
    }
   },
   "outputs": [],
   "source": [
    "sc.tl.umap(adata)"
   ]
  },
  {
   "cell_type": "code",
   "execution_count": null,
   "metadata": {
    "ExecuteTime": {
     "end_time": "2019-02-03T14:46:46.950290Z",
     "start_time": "2019-02-03T14:46:46.792665Z"
    }
   },
   "outputs": [],
   "source": [
    "sc.pl.umap(adata)"
   ]
  },
  {
   "cell_type": "markdown",
   "metadata": {},
   "source": [
    "As we set the `.raw` attribute of AnnData (a \"frozen\" state of the object at a point in the pipeline where we deemed the data \"raw\"), the previous plots showed the raw gene expression. You can also plot the scaled and corrected gene expression by explicitly stating that you don't want to use `.raw`."
   ]
  },
  {
   "cell_type": "code",
   "execution_count": null,
   "metadata": {
    "ExecuteTime": {
     "end_time": "2019-02-03T14:46:47.173162Z",
     "start_time": "2019-02-03T14:46:47.011593Z"
    }
   },
   "outputs": [],
   "source": [
    "sc.pl.umap(adata, use_raw=False)"
   ]
  },
  {
   "cell_type": "markdown",
   "metadata": {},
   "source": [
    "## Clustering the graph"
   ]
  },
  {
   "cell_type": "markdown",
   "metadata": {},
   "source": [
    "As Seurat and many others, we recommend the Louvain graph-clustering method (community detection based on optimizing modularity). It has been proposed for single-cell data by [Levine *et al.* (2015)](https://doi.org/10.1016/j.cell.2015.05.047). Note that Louvain clustering directly clusters the neighborhood graph of cells, which we already computed in the previous section."
   ]
  },
  {
   "cell_type": "code",
   "execution_count": null,
   "metadata": {
    "ExecuteTime": {
     "end_time": "2019-02-03T14:47:01.730366Z",
     "start_time": "2019-02-03T14:47:00.939454Z"
    }
   },
   "outputs": [],
   "source": [
    "sc.tl.louvain(adata)"
   ]
  },
  {
   "cell_type": "markdown",
   "metadata": {},
   "source": [
    "Plot the data with tSNE. Coloring according to clustering. Clusters agree quite well with the result of Seurat."
   ]
  },
  {
   "cell_type": "code",
   "execution_count": null,
   "metadata": {
    "ExecuteTime": {
     "end_time": "2019-02-03T15:02:10.522841Z",
     "start_time": "2019-02-03T15:02:09.680384Z"
    }
   },
   "outputs": [],
   "source": [
    "sc.pl.umap(adata, color=['louvain'], save='/bla.png')"
   ]
  },
  {
   "cell_type": "code",
   "execution_count": null,
   "metadata": {
    "ExecuteTime": {
     "end_time": "2019-02-03T15:07:07.530785Z",
     "start_time": "2019-02-03T15:07:07.515828Z"
    }
   },
   "outputs": [],
   "source": [
    "adata.obs['louvain'].value_counts()"
   ]
  },
  {
   "cell_type": "code",
   "execution_count": null,
   "metadata": {
    "ExecuteTime": {
     "end_time": "2019-02-03T14:47:22.497255Z",
     "start_time": "2019-02-03T14:47:22.399160Z"
    }
   },
   "outputs": [],
   "source": [
    "adata.obs['louvain'].to_csv(\"seurat.csv\", header = False)"
   ]
  },
  {
   "cell_type": "markdown",
   "metadata": {},
   "source": [
    "## Finding marker genes"
   ]
  },
  {
   "cell_type": "code",
   "execution_count": null,
   "metadata": {
    "ExecuteTime": {
     "end_time": "2019-02-03T13:02:10.386435Z",
     "start_time": "2019-02-03T13:02:10.379873Z"
    }
   },
   "outputs": [],
   "source": [
    "adata.obs['louvain'].shape"
   ]
  },
  {
   "cell_type": "markdown",
   "metadata": {},
   "source": [
    "Let us compute a ranking for the highly differential genes in each cluster. Here, we simply rank genes with a t test, which agrees quite well with Seurat.\n",
    "\n",
    "For this, by default, the `.raw` attribute of AnnData is used in case it has been initialized before."
   ]
  },
  {
   "cell_type": "code",
   "execution_count": null,
   "metadata": {
    "ExecuteTime": {
     "end_time": "2019-02-03T15:02:53.037539Z",
     "start_time": "2019-02-03T15:02:40.957285Z"
    }
   },
   "outputs": [],
   "source": [
    "sc.tl.rank_genes_groups(adata, 'louvain')\n",
    "sc.pl.rank_genes_groups(adata, n_genes=20, sharey=False, save='/test.pdf')"
   ]
  },
  {
   "cell_type": "code",
   "execution_count": null,
   "metadata": {},
   "outputs": [],
   "source": []
  },
  {
   "cell_type": "markdown",
   "metadata": {},
   "source": [
    "# Group all calls into one function"
   ]
  },
  {
   "cell_type": "code",
   "execution_count": null,
   "metadata": {
    "ExecuteTime": {
     "end_time": "2019-02-03T16:34:31.365096Z",
     "start_time": "2019-02-03T16:34:31.337494Z"
    }
   },
   "outputs": [],
   "source": [
    "def run(df, prefix = 'all_no_impute', \n",
    "        min_genes=10, min_cells=3, min_mean=0.005, max_mean=6, min_disp=0.1, n_neighbors=10, n_pcs=40):\n",
    "    np.save(f'data/{prefix}_cells.npy', df.index.values)\n",
    "    np.save(f'data/{prefix}_genes.npy', df.columns)\n",
    "    m = sparse.csr_matrix(df.values.T)\n",
    "    io.mmwrite(f\"data/{prefix}_matrix.mtx\", m)\n",
    "    del m\n",
    "    adata = sc.read(f\"data/{prefix}_matrix.mtx\", cache=True).T  # transpose the data\n",
    "    adata.var_names = np.load(f'data/{prefix}_genes.npy')\n",
    "    adata.obs_names = np.load(f'data/{prefix}_cells.npy')\n",
    "    adata.var_names_make_unique()\n",
    "    print('Original size',adata.shape)\n",
    "    sc.pp.filter_cells(adata, min_genes=min_genes)\n",
    "    sc.pp.filter_genes(adata, min_cells=min_cells)\n",
    "    adata.raw = sc.pp.log1p(adata, copy=True)\n",
    "    sc.pp.normalize_per_cell(adata, counts_per_cell_after=1e4)\n",
    "    filter_result = sc.pp.filter_genes_dispersion(\n",
    "    adata.X, min_mean=min_mean, max_mean=max_mean, min_disp=min_disp)\n",
    "    sc.pl.filter_genes_dispersion(filter_result)\n",
    "    adata = adata[:, filter_result.gene_subset]\n",
    "    print('After dispersion filter',adata.shape)\n",
    "    sc.pp.log1p(adata) # log transform\n",
    "    sc.pp.regress_out(adata, ['n_counts'])\n",
    "    sc.pp.scale(adata, max_value=10) # clip values with std > max_value\n",
    "    # PCA transform\n",
    "    sc.tl.pca(adata, svd_solver='arpack')\n",
    "    \n",
    "    sc.pp.neighbors(adata, n_neighbors=n_neighbors, n_pcs=n_pcs)\n",
    "    sc.tl.umap(adata)\n",
    "    \n",
    "    sc.tl.louvain(adata)\n",
    "    sc.pl.umap(adata, color=['louvain'], save=f'/{prefix}.png')\n",
    "    print(adata.obs['louvain'].value_counts())\n",
    "    with open(\"cluster_sizes.txt\", \"a\") as myfile:\n",
    "        myfile.write(f\"\\n\\n{prefix} : \\n{adata.obs['louvain'].value_counts()}\")\n",
    "    sc.tl.rank_genes_groups(adata, 'louvain')\n",
    "    sc.pl.rank_genes_groups(adata, n_genes=20, sharey=False, save=f'/{prefix}.png')\n",
    "    return adata\n",
    "\n",
    "def getCellsFromCluster(adata, clusterId = '0'):\n",
    "    v = adata.obs['louvain']\n",
    "    index = np.where(v.values == clusterId)[0]\n",
    "    return v.index[index]"
   ]
  },
  {
   "cell_type": "code",
   "execution_count": null,
   "metadata": {
    "ExecuteTime": {
     "end_time": "2019-02-03T16:29:33.210637Z",
     "start_time": "2019-02-03T16:29:31.276899Z"
    }
   },
   "outputs": [],
   "source": [
    "df = pd.read_pickle('data/df.pkl')"
   ]
  },
  {
   "cell_type": "code",
   "execution_count": null,
   "metadata": {
    "ExecuteTime": {
     "end_time": "2019-02-03T16:32:26.673352Z",
     "start_time": "2019-02-03T16:29:34.613665Z"
    }
   },
   "outputs": [],
   "source": [
    "adata = run(df, prefix = 'all_no_impute')"
   ]
  },
  {
   "cell_type": "markdown",
   "metadata": {},
   "source": [
    "# Split clusters"
   ]
  },
  {
   "cell_type": "code",
   "execution_count": null,
   "metadata": {
    "ExecuteTime": {
     "end_time": "2019-02-03T16:33:27.831098Z",
     "start_time": "2019-02-03T16:32:26.877386Z"
    }
   },
   "outputs": [],
   "source": [
    "for clusterId in ['0', '1']:\n",
    "    clusterCells = getCellsFromCluster(adata, clusterId = clusterId)\n",
    "    print(f'Cluster {clusterId} has {len(clusterCells)} cells')\n",
    "    adata_t = run(df[df.index.isin(clusterCells)], prefix = f'no_impute_cluster{clusterId}')"
   ]
  },
  {
   "cell_type": "markdown",
   "metadata": {},
   "source": [
    "# Use imputed data"
   ]
  },
  {
   "cell_type": "code",
   "execution_count": null,
   "metadata": {
    "ExecuteTime": {
     "end_time": "2019-02-03T16:35:20.541258Z",
     "start_time": "2019-02-03T16:35:18.702026Z"
    }
   },
   "outputs": [],
   "source": [
    "df = pd.read_pickle('data/imputed_df.pkl')"
   ]
  },
  {
   "cell_type": "code",
   "execution_count": null,
   "metadata": {
    "ExecuteTime": {
     "end_time": "2019-02-03T16:38:51.095176Z",
     "start_time": "2019-02-03T16:35:23.155329Z"
    }
   },
   "outputs": [],
   "source": [
    "adata = run(df, prefix = 'all_imputed')"
   ]
  },
  {
   "cell_type": "code",
   "execution_count": null,
   "metadata": {
    "ExecuteTime": {
     "end_time": "2019-02-03T16:42:07.881013Z",
     "start_time": "2019-02-03T16:40:25.452980Z"
    }
   },
   "outputs": [],
   "source": [
    "for clusterId in ['0', '1', '2', '3']:\n",
    "    clusterCells = getCellsFromCluster(adata, clusterId = clusterId)\n",
    "    print(f'Cluster {clusterId} has {len(clusterCells)} cells')\n",
    "    adata_t = run(df[df.index.isin(clusterCells)], prefix = f'imputed_cluster{clusterId}')"
   ]
  },
  {
   "cell_type": "code",
   "execution_count": null,
   "metadata": {},
   "outputs": [],
   "source": []
  },
  {
   "cell_type": "code",
   "execution_count": null,
   "metadata": {},
   "outputs": [],
   "source": []
  }
 ],
 "metadata": {
  "anaconda-cloud": {},
  "kernelspec": {
   "display_name": "Python 3",
   "language": "python",
   "name": "python3"
  },
  "language_info": {
   "codemirror_mode": {
    "name": "ipython",
    "version": 3
   },
   "file_extension": ".py",
   "mimetype": "text/x-python",
   "name": "python",
   "nbconvert_exporter": "python",
   "pygments_lexer": "ipython3",
   "version": "3.6.6"
  },
  "varInspector": {
   "cols": {
    "lenName": 16,
    "lenType": 16,
    "lenVar": 40
   },
   "kernels_config": {
    "python": {
     "delete_cmd_postfix": "",
     "delete_cmd_prefix": "del ",
     "library": "var_list.py",
     "varRefreshCmd": "print(var_dic_list())"
    },
    "r": {
     "delete_cmd_postfix": ") ",
     "delete_cmd_prefix": "rm(",
     "library": "var_list.r",
     "varRefreshCmd": "cat(var_dic_list()) "
    }
   },
   "types_to_exclude": [
    "module",
    "function",
    "builtin_function_or_method",
    "instance",
    "_Feature"
   ],
   "window_display": false
  }
 },
 "nbformat": 4,
 "nbformat_minor": 2
}
