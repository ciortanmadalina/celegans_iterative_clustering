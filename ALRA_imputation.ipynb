{
 "cells": [
  {
   "cell_type": "markdown",
   "metadata": {},
   "source": [
    "Credit to:\n",
    "https://github.com/pavlin-policar/ALRA  \n",
    "https://github.com/KlugerLab/ALRA"
   ]
  },
  {
   "cell_type": "code",
   "execution_count": 6,
   "metadata": {
    "ExecuteTime": {
     "end_time": "2019-02-03T15:51:35.644976Z",
     "start_time": "2019-02-03T15:51:32.300004Z"
    }
   },
   "outputs": [],
   "source": [
    "import numpy as np\n",
    "import scipy.sparse as sp\n",
    "import sparseutils\n",
    "import logging\n",
    "import numpy as np\n",
    "from fbpca import pca\n",
    "from scipy.stats import norm\n",
    "from collections import Counter\n",
    "import pandas as pd\n",
    "from sparseutils import nonzero_mean, nonzero_std, find_zeroed_indices"
   ]
  },
  {
   "cell_type": "code",
   "execution_count": 7,
   "metadata": {
    "ExecuteTime": {
     "end_time": "2019-02-03T15:51:35.722608Z",
     "start_time": "2019-02-03T15:51:35.672820Z"
    }
   },
   "outputs": [],
   "source": [
    "def choose_k(X, k=100, pval_thresh=1e-10, noise_start=80, n_iter=2):\n",
    "    if k > min(X.shape):\n",
    "        raise ValueError(\n",
    "            f\"`k` must be smaller than `min(N, M)`. Maximum value \"\n",
    "            f\"can be {min(X.shape)} but `{k}` given\"\n",
    "        )\n",
    "\n",
    "    if noise_start > k - 5:\n",
    "        raise ValueError(\"At least 5 singular values must be considered noise.\")\n",
    "\n",
    "    U, s, Va = pca(X, k=k, n_iter=n_iter, raw=True)\n",
    "\n",
    "    differences = np.diff(s)\n",
    "\n",
    "    mean = np.mean(differences[noise_start - 1 :])\n",
    "    std = np.std(differences[noise_start - 1 :], ddof=1)\n",
    "\n",
    "    probabilities = norm.pdf(differences, loc=mean, scale=std)\n",
    "\n",
    "    k = np.max(np.argwhere(probabilities < pval_thresh)) + 1\n",
    "\n",
    "    return k\n",
    "\n",
    "\n",
    "def ALRA(X, k=None, n_iter=10):\n",
    "    \"\"\"Adaptively-thresholded Low Rank Approximation.\n",
    "\n",
    "    Parameters\n",
    "    ----------\n",
    "    X: array_like\n",
    "    k: int\n",
    "    n_iter: int\n",
    "\n",
    "    Returns\n",
    "    -------\n",
    "    np.array\n",
    "\n",
    "    \"\"\"\n",
    "    if k is None:\n",
    "        k = choose_k(X)\n",
    "        print(f\"No `k` given. Automatically determined `k={k}`.\")\n",
    "\n",
    "    # Compute the SVD and compute the rank-k reconstruction\n",
    "    U, s, Va = pca(X, k=k, n_iter=n_iter, raw=True)\n",
    "    X_rank_k = U * s @ Va\n",
    "\n",
    "    X_rank_k = np.ma.masked_array(X_rank_k)\n",
    "\n",
    "    # Find the absolute values of the minimum expression levels for each gene\n",
    "    minimum_expressions = np.abs(np.min(X_rank_k, axis=0))\n",
    "    # Zero out all expressions with values below the gene minimum value\n",
    "    X_rank_k[X_rank_k <= minimum_expressions] = np.ma.masked\n",
    "\n",
    "    # Rescale the expressions so the first two moments match the original matrix\n",
    "    X_mean, X_std = nonzero_mean(X, axis=0), nonzero_std(X, axis=0, ddof=1)\n",
    "    X_rk_mean, X_rk_std = X_rank_k.mean(axis=0), X_rank_k.std(axis=0, ddof=1)\n",
    "\n",
    "    scale = X_std / X_rk_std\n",
    "    translate = -X_rk_mean * scale + X_mean\n",
    "\n",
    "    scale_columns = ~np.isnan(X_std) & ~np.isnan(X_rk_std)\n",
    "    X_rank_k[:, scale_columns] *= scale[scale_columns]\n",
    "    X_rank_k[:, scale_columns] += translate[scale_columns]\n",
    "\n",
    "    # Values can become negative during rescaling, so we zero those out\n",
    "    X_rank_k[X_rank_k < 0] = np.ma.masked\n",
    "\n",
    "    # Restore potentially zeroed out expression values which appeared in the\n",
    "    # original expression matrix. Where both values are non-zero, prefer the\n",
    "    # rank-k approximation\n",
    "    zeroed_out_indices = find_zeroed_indices(X_rank_k, X)\n",
    "    X_rank_k[zeroed_out_indices] = X[zeroed_out_indices]\n",
    "\n",
    "    print(\n",
    "        f\"{len(zeroed_out_indices[0])} original expression values were \",\n",
    "        f\"zeroed out during imputation and restored to original values.\"\n",
    "    )\n",
    "\n",
    "    X_rank_k = X_rank_k.filled(0)\n",
    "\n",
    "    return X_rank_k"
   ]
  },
  {
   "cell_type": "code",
   "execution_count": 8,
   "metadata": {
    "ExecuteTime": {
     "end_time": "2019-02-03T15:51:37.722768Z",
     "start_time": "2019-02-03T15:51:35.742332Z"
    }
   },
   "outputs": [],
   "source": [
    "df = pd.read_pickle('data/df.pkl')"
   ]
  },
  {
   "cell_type": "code",
   "execution_count": 23,
   "metadata": {
    "ExecuteTime": {
     "end_time": "2019-02-03T16:22:32.520234Z",
     "start_time": "2019-02-03T16:19:41.429813Z"
    }
   },
   "outputs": [
    {
     "data": {
      "text/plain": [
       "1112"
      ]
     },
     "execution_count": 23,
     "metadata": {},
     "output_type": "execute_result"
    }
   ],
   "source": [
    "k= choose_k(df.values, k=3000, noise_start=2000)\n",
    "k"
   ]
  },
  {
   "cell_type": "code",
   "execution_count": 30,
   "metadata": {
    "ExecuteTime": {
     "end_time": "2019-02-03T16:33:16.135100Z",
     "start_time": "2019-02-03T16:32:08.697341Z"
    }
   },
   "outputs": [
    {
     "name": "stdout",
     "output_type": "stream",
     "text": [
      "948754 original expression values were  zeroed out during imputation and restored to original values.\n"
     ]
    }
   ],
   "source": [
    "imputed_df = ALRA(df.values, k=10, n_iter=10)"
   ]
  },
  {
   "cell_type": "code",
   "execution_count": 31,
   "metadata": {
    "ExecuteTime": {
     "end_time": "2019-02-03T16:33:16.714112Z",
     "start_time": "2019-02-03T16:33:16.555069Z"
    }
   },
   "outputs": [],
   "source": [
    "idf = pd.DataFrame(index=df.index, data = imputed_df)\n",
    "idf.columns = df.columns"
   ]
  },
  {
   "cell_type": "code",
   "execution_count": 36,
   "metadata": {
    "ExecuteTime": {
     "end_time": "2019-02-03T16:34:42.361315Z",
     "start_time": "2019-02-03T16:34:38.013694Z"
    }
   },
   "outputs": [],
   "source": [
    "idf.to_pickle('data/imputed_df.pkl')"
   ]
  },
  {
   "cell_type": "code",
   "execution_count": 33,
   "metadata": {
    "ExecuteTime": {
     "end_time": "2019-02-03T16:33:23.118541Z",
     "start_time": "2019-02-03T16:33:23.105295Z"
    }
   },
   "outputs": [
    {
     "data": {
      "text/plain": [
       "((7603, 12355), (7603, 12355))"
      ]
     },
     "execution_count": 33,
     "metadata": {},
     "output_type": "execute_result"
    }
   ],
   "source": [
    "idf.shape, df.shape"
   ]
  },
  {
   "cell_type": "code",
   "execution_count": 34,
   "metadata": {
    "ExecuteTime": {
     "end_time": "2019-02-03T16:33:23.449806Z",
     "start_time": "2019-02-03T16:33:23.442686Z"
    }
   },
   "outputs": [],
   "source": [
    "def percentageOf0(df):\n",
    "    return Counter(df.values.ravel())[0]/(df.shape[0] *df.shape[1])"
   ]
  },
  {
   "cell_type": "markdown",
   "metadata": {},
   "source": [
    "## Percentage of 0 in original matrix"
   ]
  },
  {
   "cell_type": "code",
   "execution_count": 20,
   "metadata": {
    "ExecuteTime": {
     "end_time": "2019-02-03T16:17:36.240721Z",
     "start_time": "2019-02-03T16:17:06.019475Z"
    }
   },
   "outputs": [
    {
     "data": {
      "text/plain": [
       "0.9858628724002054"
      ]
     },
     "execution_count": 20,
     "metadata": {},
     "output_type": "execute_result"
    }
   ],
   "source": [
    "percentageOf0(df)"
   ]
  },
  {
   "cell_type": "markdown",
   "metadata": {},
   "source": [
    "## Percentage of 0 in imputed matrix"
   ]
  },
  {
   "cell_type": "code",
   "execution_count": 35,
   "metadata": {
    "ExecuteTime": {
     "end_time": "2019-02-03T16:34:04.197119Z",
     "start_time": "2019-02-03T16:33:23.735284Z"
    }
   },
   "outputs": [
    {
     "data": {
      "text/plain": [
       "0.9573593737333338"
      ]
     },
     "execution_count": 35,
     "metadata": {},
     "output_type": "execute_result"
    }
   ],
   "source": [
    "percentageOf0(idf)"
   ]
  },
  {
   "cell_type": "code",
   "execution_count": null,
   "metadata": {},
   "outputs": [],
   "source": []
  },
  {
   "cell_type": "code",
   "execution_count": null,
   "metadata": {},
   "outputs": [],
   "source": []
  },
  {
   "cell_type": "code",
   "execution_count": null,
   "metadata": {},
   "outputs": [],
   "source": []
  }
 ],
 "metadata": {
  "kernelspec": {
   "display_name": "Python 3",
   "language": "python",
   "name": "python3"
  },
  "language_info": {
   "codemirror_mode": {
    "name": "ipython",
    "version": 3
   },
   "file_extension": ".py",
   "mimetype": "text/x-python",
   "name": "python",
   "nbconvert_exporter": "python",
   "pygments_lexer": "ipython3",
   "version": "3.6.6"
  },
  "varInspector": {
   "cols": {
    "lenName": 16,
    "lenType": 16,
    "lenVar": 40
   },
   "kernels_config": {
    "python": {
     "delete_cmd_postfix": "",
     "delete_cmd_prefix": "del ",
     "library": "var_list.py",
     "varRefreshCmd": "print(var_dic_list())"
    },
    "r": {
     "delete_cmd_postfix": ") ",
     "delete_cmd_prefix": "rm(",
     "library": "var_list.r",
     "varRefreshCmd": "cat(var_dic_list()) "
    }
   },
   "types_to_exclude": [
    "module",
    "function",
    "builtin_function_or_method",
    "instance",
    "_Feature"
   ],
   "window_display": false
  }
 },
 "nbformat": 4,
 "nbformat_minor": 2
}
